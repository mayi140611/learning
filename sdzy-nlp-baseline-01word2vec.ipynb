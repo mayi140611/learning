{
 "cells": [
  {
   "cell_type": "markdown",
   "metadata": {},
   "source": [
    "# sdzy-nlp-baseline-01word2vec\n",
    "\n",
    "## 论文储备知识\n",
    "### 语言模型评价指标:困惑度(Perplexity)\n",
    "一组word seq称为一个句子的概率\n",
    "$$P(s)=P(w1w2...wn)=P(w1)P(w2|w1)...P(wn|w1w2...wn-1)$$\n",
    "\n",
    "困惑度的定义\n",
    "$$PP(s)=P(s)^{\\frac{1}{-n}}$$\n",
    "\n",
    "句子概率越大，语言模型越好，困惑度越小。"
   ]
  },
  {
   "cell_type": "markdown",
   "metadata": {},
   "source": [
    "### 语言模型困惑度和Loss(交叉熵损失)的关系\n",
    "T为句子中的词数\n",
    "![](img/wv01.png)"
   ]
  },
  {
   "cell_type": "markdown",
   "metadata": {},
   "source": [
    "## 对比模型\n",
    "### NNLM(Feedforward Neural Net Language Model)\n",
    "根据前 n-1个单词，预测第n个位 置单词的概率\n",
    "\n",
    "优化模型，使得输出的正确的单词概率最大化\n",
    "![](img/wv02.png)"
   ]
  },
  {
   "cell_type": "markdown",
   "metadata": {},
   "source": [
    "### RNNLM(Recurrent Neural Net Language Model)"
   ]
  },
  {
   "cell_type": "markdown",
   "metadata": {},
   "source": [
    "# Word2vec"
   ]
  },
  {
   "cell_type": "markdown",
   "metadata": {},
   "source": [
    "## 论文原文Efficient Estimation of Word Representations inVector Space"
   ]
  },
  {
   "cell_type": "code",
   "execution_count": 1,
   "metadata": {},
   "outputs": [
    {
     "data": {
      "text/html": [
       "\n",
       "        <iframe\n",
       "            width=\"1000\"\n",
       "            height=\"450\"\n",
       "            src=\"https://arxiv.org/pdf/1301.3781\"\n",
       "            frameborder=\"0\"\n",
       "            allowfullscreen\n",
       "        ></iframe>\n",
       "        "
      ],
      "text/plain": [
       "<IPython.lib.display.IFrame at 0x109f7eba8>"
      ]
     },
     "execution_count": 1,
     "metadata": {},
     "output_type": "execute_result"
    }
   ],
   "source": [
    "from IPython.display import IFrame\n",
    "IFrame('https://arxiv.org/pdf/1301.3781', width=1000, height=450)"
   ]
  },
  {
   "cell_type": "code",
   "execution_count": 2,
   "metadata": {},
   "outputs": [
    {
     "data": {
      "text/html": [
       "\n",
       "        <iframe\n",
       "            width=\"1000\"\n",
       "            height=\"450\"\n",
       "            src=\"http://arxiv.org/pdf/1310.4546.pdf\"\n",
       "            frameborder=\"0\"\n",
       "            allowfullscreen\n",
       "        ></iframe>\n",
       "        "
      ],
      "text/plain": [
       "<IPython.lib.display.IFrame at 0x109f93a20>"
      ]
     },
     "execution_count": 2,
     "metadata": {},
     "output_type": "execute_result"
    }
   ],
   "source": [
    "from IPython.display import IFrame\n",
    "IFrame('http://arxiv.org/pdf/1310.4546.pdf', width=1000, height=450)"
   ]
  },
  {
   "cell_type": "markdown",
   "metadata": {},
   "source": [
    "## Log-linear model\n",
    "将语言模型的建立看成一个多分类问题，相当于线性分类器加上softmax"
   ]
  },
  {
   "cell_type": "markdown",
   "metadata": {},
   "source": [
    "## Word2vec 原理\n",
    "### 语言模型基本思想:\n",
    "句子中下一个词的出现和前面的 词是有关系的，所以可以使用前面的词预测下一个词。\n",
    "### Word2vec基本思想:\n",
    "句子中相近的词之间是有联系 的，比如今天后面经常出现上午，下午和晚上。所以 Word2vec的基本思想就是用词来预测词，skip-gram 使用中心词预测周围词，cbow使用周围词预测中心 词。"
   ]
  },
  {
   "cell_type": "markdown",
   "metadata": {},
   "source": [
    "## skip-gram 跳字模型\n",
    "![](img/sk01.png)"
   ]
  },
  {
   "cell_type": "markdown",
   "metadata": {},
   "source": [
    "## Continuous-bag-of-words (CBOW, 连续词袋模型)"
   ]
  },
  {
   "cell_type": "markdown",
   "metadata": {},
   "source": [
    "# 关键技术"
   ]
  },
  {
   "cell_type": "markdown",
   "metadata": {},
   "source": [
    "## Negative Sampling\n",
    "https://zhuanlan.zhihu.com/p/56106590\n",
    "\n"
   ]
  },
  {
   "cell_type": "markdown",
   "metadata": {},
   "source": [
    "## Hierarchical Softmax（层次Softmax）\n",
    "https://zhuanlan.zhihu.com/p/56139075\n",
    "\n",
    "对于多分类问题，如果类别N很大，softmax的计算量是很大的(需要计算N次指数运算)\n",
    "\n",
    "### Huffman Tree（哈夫曼树）\n",
    "\n",
    "哈夫曼树是一种带权路径长度最短的二叉树，也称为最优二叉树。下面用一幅图来说明：\n",
    "![](img/hs01.png)"
   ]
  },
  {
   "cell_type": "markdown",
   "metadata": {},
   "source": [
    "图a中的数字表示权重，图a是常见的二叉树，图b就是图a转换过的最优二叉树。\n",
    "\n",
    "图a中权重表示重要程度，可以看出，D是最重要的，那么有这样一个规则：最重要的放在最前面，由此构造了图b的哈夫曼树。\n",
    "\n",
    "它们的带权路径长度分别为：\n",
    "\n",
    "图a：WPL = 5 * 2 + 7 * 2 + 2 * 2 +13 * 2 = 54\n",
    "\n",
    "图b：WPL = 5 * 3 + 2 * 3 + 7 * 2 + 13 * 1 = 48\n",
    "\n",
    "可见，图b的带权路径长度较小，我们可以证明图b就是哈夫曼树。\n",
    "\n",
    "#### 哈夫曼树的构造\n",
    "\n",
    "例子：\n",
    "\n",
    "有A B C D 四个词，数字表示词频，构造过程如下：\n",
    "![](img/hs02.png)\n",
    "\n",
    "#### 哈夫曼树编码\n",
    "\n",
    "左子树为0，右子树为1\n",
    "![](img/hs03.png)\n",
    "\n",
    "那么D编码为0，B编码为10，C编码为110，A编码为111。\n",
    "#### Logistic Regression（逻辑斯蒂回归）\n",
    "\n",
    "Logistic Regression的思想很简单，利用Sigmoid函数把任意值映射到（0,1）的区间上来实现分类问题（主要是二分类），\n",
    "\n",
    "Logistic Regression在这里的应用就是判断在哈夫曼树中走左子树还是右子树，其输出的值就是走某一条的概率。"
   ]
  },
  {
   "cell_type": "code",
   "execution_count": null,
   "metadata": {},
   "outputs": [],
   "source": []
  }
 ],
 "metadata": {
  "kernelspec": {
   "display_name": "Python 3",
   "language": "python",
   "name": "python3"
  },
  "language_info": {
   "codemirror_mode": {
    "name": "ipython",
    "version": 3
   },
   "file_extension": ".py",
   "mimetype": "text/x-python",
   "name": "python",
   "nbconvert_exporter": "python",
   "pygments_lexer": "ipython3",
   "version": "3.7.3"
  },
  "toc": {
   "base_numbering": 1,
   "nav_menu": {},
   "number_sections": true,
   "sideBar": true,
   "skip_h1_title": false,
   "title_cell": "Table of Contents",
   "title_sidebar": "Contents",
   "toc_cell": false,
   "toc_position": {},
   "toc_section_display": true,
   "toc_window_display": true
  },
  "varInspector": {
   "cols": {
    "lenName": 16,
    "lenType": 16,
    "lenVar": 40
   },
   "kernels_config": {
    "python": {
     "delete_cmd_postfix": "",
     "delete_cmd_prefix": "del ",
     "library": "var_list.py",
     "varRefreshCmd": "print(var_dic_list())"
    },
    "r": {
     "delete_cmd_postfix": ") ",
     "delete_cmd_prefix": "rm(",
     "library": "var_list.r",
     "varRefreshCmd": "cat(var_dic_list()) "
    }
   },
   "types_to_exclude": [
    "module",
    "function",
    "builtin_function_or_method",
    "instance",
    "_Feature"
   ],
   "window_display": false
  }
 },
 "nbformat": 4,
 "nbformat_minor": 2
}
