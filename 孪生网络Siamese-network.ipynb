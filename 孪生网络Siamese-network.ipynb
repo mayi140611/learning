{
 "cells": [
  {
   "cell_type": "markdown",
   "metadata": {},
   "source": [
    "# Siamese Network\n",
    "http://www.leonwang.top/2019/07/21/Siamese-Network/\n",
    "\n",
    "https://zhuanlan.zhihu.com/p/35040994\n",
    "\n",
    "siamese 网络， 是05年Yann Lecun提出来的。它的特点是它接收两个图片作为输入，而不是一张图片作为输入。\n",
    "\n",
    "目的：比较两幅图片是否相似（相似度）\n",
    "\n",
    "输入：两幅图片\n",
    "\n",
    "输出：一个相似度数值\n",
    "\n",
    "## Siamese & Pseudo-Siamese\n",
    "\n",
    "Siamese Network: 两个神经网络共享权值，在代码实现的时候，甚至可以是同一个网络，不用实现另外一个，因为权值都一样。\n",
    "\n",
    "Pseudo-Siamese Network（伪孪生神经网络）：两边可以是不同的神经网络（如一个是lstm，一个是cnn），也可以是相同类型的神经网络。\n",
    "\n",
    "\n",
    "## 孪生神经网络和伪孪生神经网络分别适用的场景\n",
    "\n",
    "孪生神经网络用于处理两个输入“比较类似”的情况。伪孪生神经网络适用于处理两个输入“有一定差别”的情况。比如，我们要计算两个句子或者词汇的语义相似度，使用siamese network比较适合；如果验证标题与正文的描述是否一致（标题和正文长度差别很大），或者文字是否描述了一幅图片（一个是图片，一个是文字），就应该使用pseudo-siamese network。也就是说，要根据具体的应用，判断应该使用哪一种结构，哪一种Loss。\n",
    "\n",
    "## Siamese network loss function\n",
    "\n",
    "Softmax当然是一种好的选择，但不一定是最优选择，即使是在分类问题中。\n",
    "\n",
    "传统的siamese network使用Contrastive Loss。损失函数还有更多的选择，siamese network的初衷是计算两个输入的相似度,。左右两个神经网络分别将输入转换成一个\"向量\"，在新的空间中，通过判断cosine距离就能得到相似度了。Cosine是一个选择，exp function也是一种选择，欧式距离什么的都可以，训练的目标是让两个相似的输入距离尽可能的小，两个不同类别的输入距离尽可能的大。其他的距离度量没有太多经验，这里简单说一下cosine和exp在NLP中的区别。\n",
    "\n",
    "根据实验分析，cosine更适用于词汇级别的语义相似度度量，而exp更适用于句子级别、段落级别的文本相似性度量。其中的原因可能是cosine仅仅计算两个向量的夹角，exp还能够保存两个向量的长度信息，而句子蕴含更多的信息。\n",
    "\n",
    "## Siamese network是双胞胎连体，整一个三胞胎连体行不行？\n",
    "\n",
    "不好意思，已经有人整过了，叫Triplet network，论文是《Deep metric learning using Triplet network》，输入是三个，一个正例+两个负例，或者一个负例+两个正例，训练的目标是让相同类别间的距离尽可能的小，让不同类别间的距离尽可能的大。Triplet在cifar, mnist的数据集上，效果都是很不错的，超过了siamese network。四胞胎，五胞胎会不会更屌？。。。。。目前还没见过。。。。\n",
    "\n",
    "## 应用\n",
    "前面提到的词汇的语义相似度分析，QA中question和answer的匹配，签名/人脸验证。\n",
    "\n",
    "手写体识别也可以用siamese network，网上已有github代码。\n",
    "https://medium.com/@enoshshr/learning-similarity-with-siamese-neural-networks-51c9ef534ae4  \n",
    "\n",
    "Triplet Loss\n",
    "https://medium.com/@enoshshr/triplet-loss-and-siamese-neural-networks-5d363fdeba9b\n",
    "\n",
    "还有kaggle上Quora的question pair的比赛，即判断两个提问是不是同一问题，冠军队伍用的就是n多特征+Siamese network，知乎团队也可以拿这个模型去把玩一下\n",
    "\n"
   ]
  },
  {
   "cell_type": "code",
   "execution_count": null,
   "metadata": {},
   "outputs": [],
   "source": []
  }
 ],
 "metadata": {
  "kernelspec": {
   "display_name": "Python 3",
   "language": "python",
   "name": "python3"
  },
  "language_info": {
   "codemirror_mode": {
    "name": "ipython",
    "version": 3
   },
   "file_extension": ".py",
   "mimetype": "text/x-python",
   "name": "python",
   "nbconvert_exporter": "python",
   "pygments_lexer": "ipython3",
   "version": "3.7.3"
  },
  "toc": {
   "base_numbering": 1,
   "nav_menu": {},
   "number_sections": true,
   "sideBar": true,
   "skip_h1_title": false,
   "title_cell": "Table of Contents",
   "title_sidebar": "Contents",
   "toc_cell": false,
   "toc_position": {},
   "toc_section_display": true,
   "toc_window_display": true
  },
  "varInspector": {
   "cols": {
    "lenName": 16,
    "lenType": 16,
    "lenVar": 40
   },
   "kernels_config": {
    "python": {
     "delete_cmd_postfix": "",
     "delete_cmd_prefix": "del ",
     "library": "var_list.py",
     "varRefreshCmd": "print(var_dic_list())"
    },
    "r": {
     "delete_cmd_postfix": ") ",
     "delete_cmd_prefix": "rm(",
     "library": "var_list.r",
     "varRefreshCmd": "cat(var_dic_list()) "
    }
   },
   "types_to_exclude": [
    "module",
    "function",
    "builtin_function_or_method",
    "instance",
    "_Feature"
   ],
   "window_display": false
  }
 },
 "nbformat": 4,
 "nbformat_minor": 2
}
