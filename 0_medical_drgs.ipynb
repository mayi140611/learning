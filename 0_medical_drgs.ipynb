{
 "cells": [
  {
   "cell_type": "markdown",
   "metadata": {},
   "source": [
    "# DRGs\n",
    "\n",
    "\n",
    "# CHS-DRG付费概述、实施条件和数据准备\n",
    "国家医疗保障DRG分组与付费技术规范课件 https://zk.cn-healthcare.com/doc-show-39199.html\n",
    "## CHS-DRG付费概述\n",
    "### DRG基本概念\n",
    "![](img/drg01.png)\n",
    "### 医保DRG付费目标\n",
    "![](img/drg02.png)\n",
    "### DRG付费适用范围\n",
    "![](img/drg03.png)\n"
   ]
  },
  {
   "cell_type": "markdown",
   "metadata": {},
   "source": [
    "## CHS-DRG实施条件和数据准备\n",
    "### CHS-DRG实施条件\n",
    "![](img/drg04.png)\n",
    "#### 基础代码统一\n",
    "![](img/drg05.png)\n",
    "#### 病案质量达标\n",
    "![](img/drg06.png)\n",
    "#### 诊疗流程规范\n",
    "![](img/drg07.png)\n",
    "#### 信息系统互联\n",
    "![](img/drg08.png)\n",
    "#### 管理队伍精干\n",
    "![](img/drg09.png)\n",
    "#### 协作机制健全\n",
    "![](img/drg10.png)\n",
    "\n",
    "### CHS-DRG实施的数据准备\n",
    "\n"
   ]
  },
  {
   "cell_type": "code",
   "execution_count": null,
   "metadata": {},
   "outputs": [],
   "source": []
  }
 ],
 "metadata": {
  "kernelspec": {
   "display_name": "Python 3",
   "language": "python",
   "name": "python3"
  },
  "language_info": {
   "codemirror_mode": {
    "name": "ipython",
    "version": 3
   },
   "file_extension": ".py",
   "mimetype": "text/x-python",
   "name": "python",
   "nbconvert_exporter": "python",
   "pygments_lexer": "ipython3",
   "version": "3.7.9"
  },
  "toc": {
   "base_numbering": 1,
   "nav_menu": {},
   "number_sections": true,
   "sideBar": true,
   "skip_h1_title": false,
   "title_cell": "Table of Contents",
   "title_sidebar": "Contents",
   "toc_cell": false,
   "toc_position": {},
   "toc_section_display": true,
   "toc_window_display": true
  }
 },
 "nbformat": 4,
 "nbformat_minor": 4
}
