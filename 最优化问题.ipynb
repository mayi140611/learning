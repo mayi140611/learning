{
 "cells": [
  {
   "cell_type": "markdown",
   "metadata": {},
   "source": [
    "# 牛顿法\n",
    "https://www.bilibili.com/video/BV1KE411W7KJ\n",
    "\n",
    "用于求解无约束优化问题。\n",
    "\n",
    "特点：收敛速度快。\n",
    "\n",
    "缺点: 每次迭代 都需要计算海森矩阵的逆矩阵，计算比较复杂。后来就有了拟牛顿法(通过正定矩阵来近似海森矩阵来简化计算过程)\n",
    "\n",
    "\n",
    "假设f(x)在xk处具有二阶导数，进行二阶泰勒展开\n",
    "\n",
    "![](img/nt01.png)\n",
    "\n",
    "## 迭代流程\n",
    "![](img/nt02.png)\n",
    "## 拟牛顿法\n",
    "https://www.bilibili.com/video/BV1CE411p7M1\n",
    "\n",
    "有两种: DFP(Gk代替H^-1), BFGS(Gk代替H)\n",
    "\n",
    "### 拟牛顿条件\n",
    "海森矩阵要是正定的"
   ]
  },
  {
   "cell_type": "markdown",
   "metadata": {},
   "source": [
    "# 带约束的优化问题\n",
    "https://www.bilibili.com/video/BV1qE411T7Ng\n",
    "\n",
    "约束分为两种: 等式约束；不等式约束\n",
    "## 带等式约束的最优化问题求解-拉格朗日乘子法\n",
    "## 带不等式约束的最优化问题-KKT条件\n"
   ]
  }
 ],
 "metadata": {
  "kernelspec": {
   "display_name": "Python 3",
   "language": "python",
   "name": "python3"
  },
  "language_info": {
   "codemirror_mode": {
    "name": "ipython",
    "version": 3
   },
   "file_extension": ".py",
   "mimetype": "text/x-python",
   "name": "python",
   "nbconvert_exporter": "python",
   "pygments_lexer": "ipython3",
   "version": "3.7.3"
  },
  "toc": {
   "base_numbering": 1,
   "nav_menu": {},
   "number_sections": true,
   "sideBar": true,
   "skip_h1_title": false,
   "title_cell": "Table of Contents",
   "title_sidebar": "Contents",
   "toc_cell": false,
   "toc_position": {},
   "toc_section_display": true,
   "toc_window_display": true
  },
  "varInspector": {
   "cols": {
    "lenName": 16,
    "lenType": 16,
    "lenVar": 40
   },
   "kernels_config": {
    "python": {
     "delete_cmd_postfix": "",
     "delete_cmd_prefix": "del ",
     "library": "var_list.py",
     "varRefreshCmd": "print(var_dic_list())"
    },
    "r": {
     "delete_cmd_postfix": ") ",
     "delete_cmd_prefix": "rm(",
     "library": "var_list.r",
     "varRefreshCmd": "cat(var_dic_list()) "
    }
   },
   "types_to_exclude": [
    "module",
    "function",
    "builtin_function_or_method",
    "instance",
    "_Feature"
   ],
   "window_display": false
  }
 },
 "nbformat": 4,
 "nbformat_minor": 2
}
