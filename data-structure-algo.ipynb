{
 "cells": [
  {
   "cell_type": "markdown",
   "metadata": {},
   "source": [
    "https://leetcode-cn.com/problems/climbing-stairs/\n",
    "    \n",
    "https://leetcode-cn.com/problems/move-zeroes/ \n",
    "\n",
    "https://leetcode-cn.com/problems/remove-duplicates-from-sorted-array/submissions/\n",
    "\n",
    "https://leetcode-cn.com/problems/container-with-most-water/"
   ]
  },
  {
   "cell_type": "markdown",
   "metadata": {},
   "source": [
    "# 求解算法问题4步骤\n",
    "* 和面试官确认面试题理解无误\n",
    "* 想所有的解决方法，同时比较这些方法的时间和空间复杂度\n",
    "* 写\n",
    "* 确认结果"
   ]
  },
  {
   "cell_type": "markdown",
   "metadata": {},
   "source": [
    "# 练习步骤 五毒神掌\n",
    "1. 5-10min 读题和思考\n",
    "1. 有思路，开始写代码；没思路，马上看题解\n",
    "1. 默写背诵、熟练\n",
    "1. 默写"
   ]
  },
  {
   "cell_type": "markdown",
   "metadata": {},
   "source": [
    "# 可视化工具\n",
    "https://visualgo.net/en"
   ]
  },
  {
   "cell_type": "markdown",
   "metadata": {},
   "source": [
    "# 复杂度分析"
   ]
  },
  {
   "cell_type": "markdown",
   "metadata": {},
   "source": [
    "## 时间复杂度\n",
    "https://www.zhihu.com/question/21387264\n",
    "### big O notation\n",
    "最常见的7种时间复杂度\n",
    "![](img/algo01.png)"
   ]
  },
  {
   "cell_type": "markdown",
   "metadata": {},
   "source": [
    "### 如何判断时间复杂度\n",
    "看一段代码针对n的不同取值时的运行次数与n的关系\n",
    "![](img/algo02.png)\n",
    "![](img/algo03.png)\n",
    "![](img/algo04.png)"
   ]
  },
  {
   "cell_type": "markdown",
   "metadata": {},
   "source": [
    "### 时间复杂度曲线\n",
    "![](img/algo05.png)"
   ]
  },
  {
   "cell_type": "markdown",
   "metadata": {},
   "source": [
    "### 递归函数如何求时间复杂度\n",
    "![](img/algo07.png)\n",
    "![](img/algo06.png)\n",
    "\n",
    "#### 主定理(Master Theorem\n",
    "https://en.wikipedia.org/wiki/Master_theorem_(analysis_of_algorithms)\n",
    "\n",
    "https://zh.wikipedia.org/wiki/%E4%B8%BB%E5%AE%9A%E7%90%86\n",
    "![](img/algo08.png)\n",
    "四种情况\n",
    "* binary search 二分查找：一般发生在一个数列本身有序的时候，你要在这个有序的数列里找到目标数\n",
    "* 二叉树遍历：\n",
    "* 二维有序矩阵\n",
    "* 归并排序: 所有排序 最优的就是nlogn的时间复杂度"
   ]
  },
  {
   "cell_type": "markdown",
   "metadata": {},
   "source": [
    "### 面试题\n",
    "![](img/algo09.png)\n",
    "答案 O(n) O(n) O(n) O(logn)"
   ]
  },
  {
   "cell_type": "markdown",
   "metadata": {},
   "source": [
    "### 常见数据结构操作的时间复杂度\n",
    "![](img/algo11.png)"
   ]
  },
  {
   "cell_type": "markdown",
   "metadata": {},
   "source": [
    "## 空间复杂度\n",
    "### 数组: 如果你开了数组\n",
    "\n",
    "一维数组： 传入n个值，数组长度是n，那么空间复杂度O(n)\n",
    "\n",
    "二维数组: 传入n个值，数组元素个数是n^2，那么空间复杂度O(n^2)\n",
    "\n",
    "### 递归\n",
    "最大的深度 就是空间复杂度\n",
    "![](img/algo10.png)\n",
    "https://leetcode-cn.com/problems/climbing-stairs/solution/pa-lou-ti-by-leetcode-solution/"
   ]
  },
  {
   "cell_type": "markdown",
   "metadata": {},
   "source": [
    "# array、linked list、跳表skip list"
   ]
  },
  {
   "cell_type": "markdown",
   "metadata": {},
   "source": [
    "## linked list"
   ]
  },
  {
   "cell_type": "code",
   "execution_count": null,
   "metadata": {},
   "outputs": [],
   "source": [
    "1.1 链表逆向，不能申请额外的空间"
   ]
  },
  {
   "cell_type": "code",
   "execution_count": 1,
   "metadata": {},
   "outputs": [],
   "source": [
    "class LinkedNode:\n",
    "    def __init__(self, data):\n",
    "        self._data = data\n",
    "        self.next = None"
   ]
  },
  {
   "cell_type": "code",
   "execution_count": null,
   "metadata": {},
   "outputs": [],
   "source": [
    "class LinkedList:\n",
    "    def __init__(self, head=None):\n",
    "        self._head = head"
   ]
  },
  {
   "cell_type": "code",
   "execution_count": 39,
   "metadata": {},
   "outputs": [],
   "source": [
    "def reverse(head):\n",
    "    if head is None: return head\n",
    "    if head.next is None: return head\n",
    "    pre = None\n",
    "    while head:\n",
    "        next_ = head.next\n",
    "        head.next = pre\n",
    "        pre = head\n",
    "        head = next_\n",
    "    return pre"
   ]
  },
  {
   "cell_type": "code",
   "execution_count": 44,
   "metadata": {},
   "outputs": [],
   "source": [
    "head = LinkedNode(1)\n",
    "head.next = LinkedNode(2)\n",
    "head.next.next = LinkedNode(3)\n",
    "head.next.next.next = LinkedNode(4)\n",
    "h = reverse(head)"
   ]
  },
  {
   "cell_type": "code",
   "execution_count": 45,
   "metadata": {},
   "outputs": [
    {
     "data": {
      "text/plain": [
       "(4, 3, 2, 1)"
      ]
     },
     "execution_count": 45,
     "metadata": {},
     "output_type": "execute_result"
    }
   ],
   "source": [
    "h._data,h.next._data,h.next.next._data,h.next.next.next._data"
   ]
  },
  {
   "cell_type": "code",
   "execution_count": null,
   "metadata": {},
   "outputs": [],
   "source": [
    "1.2 求两个链表的交点\n",
    "思路1: 把链表1的节点地址放入hashset中，遍历节点b，第一个相同的节点即为交点\n",
    "    \n",
    "1.3 确定链表是否有环，环起点\n",
    "\n",
    "1.4 链表划分\n",
    "\n",
    "1.5 复杂链表的深度拷贝"
   ]
  },
  {
   "cell_type": "markdown",
   "metadata": {
    "heading_collapsed": true
   },
   "source": [
    "## skip list\n",
    "只能用于链表里的元素有序的情况下\n",
    "\n",
    "skip list对标的是平衡树(AVL Tree)和二分查找。是一种插入/删除/查找 都是O(logn)的数据结构。1989年出现\n",
    "\n",
    "它最大的优势是原理简单，容易实现、方便扩展、效率更高。因此在一些热门的项目里用来替代平衡树。如Redis\n",
    "### 如何提高链表线性查找的效率\n",
    "思维方式: 一维的数据要加速，通常考虑升维\n",
    "![](img/list01.png)\n",
    "![](img/list02.png)\n",
    "### 跳表查询的时间复杂度分析\n",
    "![](img/list03.png)\n",
    "![](img/list04.png)\n",
    "### 增加删除等维护成本高\n",
    "### 跳表查询的空间复杂度分析\n",
    "![](img/list05.png)"
   ]
  },
  {
   "cell_type": "code",
   "execution_count": null,
   "metadata": {
    "hidden": true
   },
   "outputs": [],
   "source": [
    "为啥 redis 使用跳表(skiplist)而不是使用 red-black？https://www.zhihu.com/question/20202931\n",
    "\n",
    "LRU缓存机制leetcode  https://leetcode-cn.com/problems/lru-cache/"
   ]
  },
  {
   "cell_type": "markdown",
   "metadata": {},
   "source": [
    "# stack, queue, heap"
   ]
  },
  {
   "cell_type": "code",
   "execution_count": null,
   "metadata": {},
   "outputs": [],
   "source": [
    "1 stack, queue, heap\n",
    "1.1 用stack实现queue\n",
    "思路用2个stack\n",
    "1.2 用queue实现stack\n",
    "思路用2个队列\n",
    "1.3 包含min函数的stack，getMin的复杂度为O(1)\n",
    "1.4 合法的出栈序列\n",
    "1.5 简单的计算器(加法、减法、括号)\n",
    "\n",
    "'1+121-(14+(5-6))'\n",
    "1.6 找出数组中第k大的元素\n",
    "思路: 动态维护一个具有k个元素的最小堆，返回堆顶元素\n",
    "1.7 寻找中位数 \n",
    "思路: 动态维护一个最大堆和最小堆"
   ]
  },
  {
   "cell_type": "code",
   "execution_count": 70,
   "metadata": {},
   "outputs": [],
   "source": [
    "s = '1+121-(14+(5-6))'"
   ]
  },
  {
   "cell_type": "code",
   "execution_count": 71,
   "metadata": {},
   "outputs": [],
   "source": [
    "numbers = '0123456789'"
   ]
  },
  {
   "cell_type": "code",
   "execution_count": 90,
   "metadata": {},
   "outputs": [],
   "source": [
    "s = '14-5+6+7-8'"
   ]
  },
  {
   "cell_type": "code",
   "execution_count": 101,
   "metadata": {},
   "outputs": [],
   "source": [
    "s = '14-(5+6-(8-7))'"
   ]
  },
  {
   "cell_type": "code",
   "execution_count": 104,
   "metadata": {},
   "outputs": [],
   "source": [
    "num_stack = []\n",
    "op_stack = []\n",
    "compute_flag=0\n",
    "n = ''\n",
    "for i in s:\n",
    "    if i in numbers:\n",
    "        n += i\n",
    "    else:\n",
    "        if n: \n",
    "            num_stack.append(int(n))\n",
    "            n = ''\n",
    "            if compute_flag == 1 and op_stack and op_stack[-1] in '+-':\n",
    "                a = num_stack.pop()\n",
    "                b = num_stack.pop()\n",
    "                op = op_stack.pop()\n",
    "                if op == '+': num_stack.append(b + a)\n",
    "                elif op == '-': num_stack.append(b - a)\n",
    "        if i in '+-':\n",
    "            op_stack.append(i)\n",
    "            compute_flag = 1\n",
    "        elif i == '(':\n",
    "            compute_flag = 0\n",
    "#         if i == ')':\n",
    "            \n",
    "            \n",
    "if n: \n",
    "    num_stack.append(int(n))\n",
    "while op_stack and op_stack[-1] in '+-':\n",
    "    a = num_stack.pop()\n",
    "    b = num_stack.pop()\n",
    "    op = op_stack.pop()\n",
    "    if op == '+': num_stack.append(b + a)\n",
    "    elif op == '-': num_stack.append(b - a)\n"
   ]
  },
  {
   "cell_type": "code",
   "execution_count": 105,
   "metadata": {},
   "outputs": [
    {
     "data": {
      "text/plain": [
       "([4], [])"
      ]
     },
     "execution_count": 105,
     "metadata": {},
     "output_type": "execute_result"
    }
   ],
   "source": [
    "num_stack, op_stack"
   ]
  },
  {
   "cell_type": "markdown",
   "metadata": {},
   "source": [
    "# tree"
   ]
  },
  {
   "cell_type": "markdown",
   "metadata": {},
   "source": [
    "## 思考题\n",
    "树的面试题一般都是递归，为什么\n",
    "* 本身节点的定义就是用递归定义的\n",
    "* 自相似性"
   ]
  },
  {
   "cell_type": "markdown",
   "metadata": {},
   "source": [
    "## 树的逻辑结构\n",
    "https://www.bilibili.com/video/BV1o541147mS\n",
    "### 基本术语"
   ]
  },
  {
   "cell_type": "markdown",
   "metadata": {},
   "source": [
    "#### 度\n",
    "结点的度: 结点所拥有的子树的个数\n",
    "树的度: 树中各结点度的最大值\n",
    "![](img/tree01.png)\n",
    "叶子结点: 度为0的结点\n",
    "分支结点: 度不为0的结点\n",
    "\n",
    "孩子、双亲(父节点):\n",
    "子孙、祖先\n",
    "兄弟\n",
    "\n",
    "路径\n",
    "路径长度: 路径经过边的个数\n",
    "\n",
    "结点所在层数: 根节点的层数为1\n",
    "树的深度: 树中所有结点的最大层数，也称为高度\n",
    "![](img/tree02.png)\n",
    "\n",
    "层序编号\n",
    "\n",
    "森林: m棵互不相交的树的结合\n",
    "\n",
    "### 线性结构和树结构的比较\n",
    "### 树的抽象数据类型定义\n",
    "    ADT Tree\n",
    "    Data\n",
    "    \n",
    "    Operation\n",
    "        InitTree\n",
    "        DsetroyTree\n",
    "        PreOrder\n",
    "        PostOrder\n",
    "    endADT"
   ]
  },
  {
   "cell_type": "markdown",
   "metadata": {},
   "source": [
    "### 树的遍历操作\n",
    "从根节点出发，按照某种次序访问树中的所有结点\n",
    "\n",
    "遍历的实质: 树结构 -> 线性结构\n",
    "\n",
    "#### 前序遍历 \n",
    "次序 根、左、右\n",
    "#### 后序遍历(根结点最后被访问\n",
    "左、右、根\n",
    "#### 层序遍历\n",
    "从第一层开始逐层遍历，从上至下、从左至右访问"
   ]
  },
  {
   "cell_type": "code",
   "execution_count": null,
   "metadata": {},
   "outputs": [],
   "source": [
    "class TreeNode:\n",
    "    def __init__(self, val):\n",
    "        self.val = val\n",
    "        self.left, self.right = None, None"
   ]
  },
  {
   "cell_type": "code",
   "execution_count": null,
   "metadata": {},
   "outputs": [],
   "source": [
    "class BinaryTree:\n",
    "    def levelOrder(self, root):\n",
    "        if root:\n",
    "            queue = [root]\n",
    "            while queue:\n",
    "                print(root.val)\n",
    "                if root.left: queue.append(root.left)\n",
    "                if root.right: queue.append(root.right)\n",
    "    def preOrder(self, root):\n",
    "        self.traverse_path.append(root)\n",
    "        self.preOrder(root.left)\n",
    "        self.preOrder(root.right)\n",
    "    def inOrder(self, root):\n",
    "        self.inOrder(root.left)\n",
    "        self.traverse_path.append(root)\n",
    "        self.inOrder(root.right)\n",
    "    def postOrder(self, root):\n",
    "        self.postOrder(root.left)\n",
    "        self.postOrder(root.right)\n",
    "        self.traverse_path.append(root)"
   ]
  },
  {
   "cell_type": "markdown",
   "metadata": {},
   "source": [
    "## 树的存储结构\n",
    "https://www.bilibili.com/video/BV1jg4y1a7q6\n",
    "\n",
    "\n",
    "\n",
    "\n",
    "\n",
    "\n",
    "\n",
    "\n",
    "\n",
    "\n",
    "\n",
    "\n"
   ]
  },
  {
   "cell_type": "markdown",
   "metadata": {},
   "source": [
    "# 排序\n",
    "https://www.bilibili.com/video/BV1os41117Fs?p=97\n",
    "\n",
    "所有的排序的时间复杂度都是 nlogn\n",
    "![](img/sort01.png)\n",
    "![](img/sort02.png)"
   ]
  },
  {
   "cell_type": "markdown",
   "metadata": {},
   "source": [
    "## bubble sort"
   ]
  },
  {
   "cell_type": "code",
   "execution_count": null,
   "metadata": {},
   "outputs": [],
   "source": [
    "def bubble_sort(nums):\n",
    "    for i in range(0, len(nums)):\n",
    "        flag = 0\n",
    "        for j in range(len(nums)-1, i, -1):\n",
    "            if nums[j] > nums[j-1]:\n",
    "                flag = 1\n",
    "                nums[j], nums[j-1] = nums[j-1], nums[j]\n",
    "        if flag == 0: return "
   ]
  },
  {
   "cell_type": "markdown",
   "metadata": {},
   "source": [
    "## quick sort\n",
    "https://www.bilibili.com/video/BV1os41117Fs?p=97"
   ]
  },
  {
   "cell_type": "code",
   "execution_count": null,
   "metadata": {},
   "outputs": [],
   "source": [
    "def quick_sort(nums, left, right):\n",
    "    left_, right_ = left,right\n",
    "    if left < right:\n",
    "        i = (left+right-1)//2\n",
    "        target = nums[i]\n",
    "        nums[i] = nums[left]\n",
    "        i = left\n",
    "        while left < right:\n",
    "            for j in range(right-1, left, -1):\n",
    "                if nums[j] < target:\n",
    "                    nums[j], nums[i] = nums[i], nums[j]\n",
    "                    i = j\n",
    "                    left += 1\n",
    "                    break\n",
    "                right -= 1\n",
    "            for j in range(left, right):\n",
    "                if nums[j] > target:\n",
    "                    nums[j], nums[i] = nums[i], nums[j]\n",
    "                    i = j\n",
    "                    right -= 1\n",
    "                    break\n",
    "                left += 1\n",
    "        nums[i] = target\n",
    "        quick_sort(nums, i+1, right_)\n",
    "        quick_sort(nums, left_, i)\n",
    "        ## 快速选择 https://leetcode-cn.com/problems/kth-largest-element-in-an-array/submissions/\n",
    "#         if len(nums)-k == i: return target\n",
    "#         elif len(nums)-k > i:\n",
    "#             return quick_sort(nums, i+1, right_)\n",
    "#         else: return quick_sort(nums, left_, i)"
   ]
  },
  {
   "cell_type": "markdown",
   "metadata": {},
   "source": [
    "## heap sort\n",
    "https://www.bilibili.com/video/BV1os41117Fs?p=94\n",
    "\n",
    "https://www.cnblogs.com/NewsunLs/p/9568126.html\n",
    "\n",
    "完全二叉树， 假设根节点编号从1开始，从左到右依次编号，则若根节点编号为i，则其左右节点的编号为2i和2i+1\n",
    "\n",
    "大顶堆 小顶堆\n",
    "\n"
   ]
  },
  {
   "cell_type": "code",
   "execution_count": 33,
   "metadata": {},
   "outputs": [],
   "source": [
    "import math,random\n",
    "\n",
    "#网上找的打印树的一个函数，很好用，谁用谁知道\n",
    "def print_tree(array:list): #打印堆排序使用\n",
    "    '''\n",
    "    深度 前空格 元素间空格\n",
    "    1     7       0\n",
    "    2     3       7\n",
    "    3     1       3\n",
    "    4     0       1\n",
    "    '''\n",
    "    # first=[0]\n",
    "    # first.extend(array)\n",
    "    # array=first\n",
    "#     array = [0] + array\n",
    "    index = 1\n",
    "    depth = math.ceil(math.log2(len(array))) # 因为补0了，不然应该是math.ceil(math.log2(len(array)+1))\n",
    "    sep = '  '\n",
    "    for i in range(depth):\n",
    "        offset = 2 ** i\n",
    "        print(sep * (2 ** (depth - i - 1) - 1), end='')\n",
    "        line = array[index:index + offset]\n",
    "        for j, x in enumerate(line):\n",
    "            print(\"{:>{}}\".format(x, len(sep)), end='')\n",
    "            interval = 0 if i == 0 else 2 ** (depth - i) - 1\n",
    "            if j < len(line) - 1:\n",
    "                print(sep * interval, end='')\n",
    "        index += offset\n",
    "        print()"
   ]
  },
  {
   "cell_type": "code",
   "execution_count": 34,
   "metadata": {},
   "outputs": [
    {
     "name": "stdout",
     "output_type": "stream",
     "text": [
      "               3\n",
      "       2               3\n",
      "   1       2       4       5\n",
      " 5   6\n"
     ]
    }
   ],
   "source": [
    "print_tree([0] + [3,2,3,1,2,4,5,5,6])"
   ]
  },
  {
   "cell_type": "code",
   "execution_count": null,
   "metadata": {},
   "outputs": [],
   "source": [
    "\n",
    "\n",
    "def sort(arr,start,end):\n",
    "    if end == start * 2:\n",
    "        if arr[start * 2] > arr[start]:\n",
    "            arr[start * 2], arr[start] = arr[start], arr[start * 2]\n",
    "    else:\n",
    "        if end < start * 2 + 1:\n",
    "            return\n",
    "        else:\n",
    "            left = arr[start*2]\n",
    "            right = arr[start*2+1]\n",
    "            if left>right and left > arr[start]:\n",
    "                arr[start * 2 ], arr[start] = arr[start], arr[start * 2 ]\n",
    "                sort(arr,start*2,end)\n",
    "            if left<right and right > arr[start]:\n",
    "                arr[start * 2+1], arr[start] = arr[start], arr[start * 2+1]\n",
    "                sort(arr, start * 2+1, end)\n",
    "\n",
    "def heapfiy(arr):\n",
    "    x = len(arr) - 1\n",
    "    n = x // 2\n",
    "    while n > 0:\n",
    "        # print(n)\n",
    "        sort(arr, n, x)\n",
    "        n -= 1\n",
    "\n",
    "#以下是主函数\n",
    "\n",
    "#第一个0是占位用\n",
    "orignal_list=[0, 74, 73, 59, 72, 64, 69, 43, 36, 70, 61, 40, 16, 47, 67, 17, 31, 19, 24, 14, 20, 48, 5, 7, 3, 78, 84, 92, 97, 98, 99]\n",
    "print(orignal_list)\n",
    "#第一次构建最大堆\n",
    "heapfiy(orignal_list)\n",
    "#打印树\n",
    "print_tree(orignal_list)\n",
    "\n",
    "x= len(orignal_list) - 1\n",
    "while x!=1:\n",
    "    #交换最大的数和最后一个\n",
    "    orignal_list[1],orignal_list[x]=orignal_list[x],orignal_list[1]\n",
    "    x-=1\n",
    "    #由于交换了，不再是最大堆，重新构建最大堆\n",
    "    n=x//2\n",
    "    while n>0:\n",
    "        sort(orignal_list,n,x)\n",
    "        n-=1\n",
    "\n",
    "#打印最后结果\n",
    "print_tree(orignal_list)\n",
    "print(orignal_list)"
   ]
  },
  {
   "cell_type": "code",
   "execution_count": 68,
   "metadata": {},
   "outputs": [],
   "source": [
    "class Solution(object):\n",
    "    def findKthLargest(self, nums, k):\n",
    "        \"\"\"\n",
    "        :type nums: List[int]\n",
    "        :type k: int\n",
    "        :rtype: int\n",
    "        \"\"\"\n",
    "        n = len(nums) # 索引从1开始\n",
    "        \n",
    "        def build_max_heap(nums):\n",
    "            # 索引从1开始\n",
    "            for i in range((len(nums)-1)//2, 0, -1):\n",
    "                heap_adjust(nums, i, len(nums))\n",
    "        \n",
    "        def heap_sort(nums):\n",
    "            nums = [0]+nums\n",
    "            build_max_heap(nums)\n",
    "            print_tree(nums)\n",
    "            for i in range(1, len(nums)-1):\n",
    "                nums[-i],nums[1] = nums[1],nums[-i]\n",
    "                \n",
    "                heap_adjust(nums, 1, i)\n",
    "                print_tree(nums)\n",
    "                \n",
    "            \n",
    "        def heap_adjust(nums_, i, end):\n",
    "            # 大顶堆\n",
    "            \n",
    "            t_ = 2*i\n",
    "            if 2*i+1 <= len(nums_[:end])-1 and nums_[2*i] < nums_[2*i+1]:\n",
    "                t_ = 2*i + 1\n",
    "#             print(t_, len(nums_), nums_[i], nums_[t_])\n",
    "            if nums_[i] < nums_[t_]:\n",
    "                nums_[i], nums_[t_] = nums_[t_], nums_[i]\n",
    "#                 print_tree(nums_)\n",
    "                if t_ <= (len(nums_[:end])-1)//2:\n",
    "                    heap_adjust(nums_, t_, end)\n",
    "                \n",
    "            \n",
    "        heap_sort(nums)\n",
    "        print(nums)\n",
    "        return nums[-k]\n",
    "\n"
   ]
  },
  {
   "cell_type": "code",
   "execution_count": 69,
   "metadata": {},
   "outputs": [
    {
     "name": "stdout",
     "output_type": "stream",
     "text": [
      "               6\n",
      "       5               5\n",
      "   3       2       4       3\n",
      " 2   1\n",
      "               5\n",
      "       1               5\n",
      "   3       2       4       3\n",
      " 2   6\n",
      "               2\n",
      "       1               5\n",
      "   3       2       4       3\n",
      " 5   6\n",
      "               3\n",
      "       1               5\n",
      "   3       2       4       2\n",
      " 5   6\n",
      "               5\n",
      "       1               4\n",
      "   3       2       3       2\n",
      " 5   6\n",
      "               4\n",
      "       1               2\n",
      "   3       5       3       2\n",
      " 5   6\n",
      "               3\n",
      "       1               2\n",
      "   4       5       3       2\n",
      " 5   6\n",
      "               3\n",
      "       1               3\n",
      "   4       5       2       2\n",
      " 5   6\n",
      "               3\n",
      "       5               3\n",
      "   4       1       2       2\n",
      " 5   6\n",
      "[3, 2, 3, 1, 2, 4, 5, 5, 6]\n"
     ]
    },
    {
     "data": {
      "text/plain": [
       "4"
      ]
     },
     "execution_count": 69,
     "metadata": {},
     "output_type": "execute_result"
    }
   ],
   "source": [
    "Solution().findKthLargest([3,2,3,1,2,4,5,5,6], 4)"
   ]
  },
  {
   "cell_type": "markdown",
   "metadata": {},
   "source": [
    "# 递归"
   ]
  },
  {
   "cell_type": "markdown",
   "metadata": {},
   "source": [
    "## 计算n的阶乘"
   ]
  },
  {
   "cell_type": "code",
   "execution_count": 3,
   "metadata": {},
   "outputs": [],
   "source": [
    "def factorial(n):\n",
    "    if n <= 1:\n",
    "        return 1\n",
    "    return n * factorial(n-1)"
   ]
  },
  {
   "cell_type": "code",
   "execution_count": 5,
   "metadata": {},
   "outputs": [
    {
     "data": {
      "text/plain": [
       "720"
      ]
     },
     "execution_count": 5,
     "metadata": {},
     "output_type": "execute_result"
    }
   ],
   "source": [
    "factorial(6)"
   ]
  },
  {
   "cell_type": "markdown",
   "metadata": {},
   "source": [
    "![](img/digui00.png)"
   ]
  },
  {
   "cell_type": "markdown",
   "metadata": {},
   "source": [
    "## 递归的python模板"
   ]
  },
  {
   "cell_type": "code",
   "execution_count": null,
   "metadata": {},
   "outputs": [],
   "source": [
    "def recursion(level, param1, param2,...):\n",
    "    # 递归终止条件\n",
    "    if level > MAX_LEVEL:\n",
    "        process_result\n",
    "        return\n",
    "    # 处理当前层逻辑\n",
    "    process(level, data)\n",
    "    \n",
    "    # 到下一层\n",
    "    recursion(level+1, p1...)\n",
    "    \n",
    "    # 清理当前level的变量 if needed"
   ]
  },
  {
   "cell_type": "markdown",
   "metadata": {},
   "source": [
    "## 思维要点\n",
    "![](img/digui01.png)"
   ]
  },
  {
   "cell_type": "markdown",
   "metadata": {},
   "source": [
    "# 题库"
   ]
  },
  {
   "cell_type": "markdown",
   "metadata": {},
   "source": [
    "## climbing-stairs\n",
    "https://leetcode-cn.com/problems/climbing-stairs/solution/pa-lou-ti-by-leetcode-solution/"
   ]
  },
  {
   "cell_type": "markdown",
   "metadata": {},
   "source": [
    "https://www.nowcoder.com/discuss/315546?type=post&order=time&pos=&page=1\n",
    "\n",
    "输入正整数N,从1开始打印不超过N位的所有数字，比如：\n",
    "N=1, 打印 1，2，3，。。。，8，9\n",
    "N = 2，打印 1，2， 3， 。。。，98， 99\n",
    "N = 3, 打印 1，2，3， 。。。， 998， 999\n",
    "一开始我还以为是快速幂，🤣，本质是用字符串来存储N位大数，从0开始用字符串加法逐次加1，然后打印出和，等最高位进位的时候就停止打印。 "
   ]
  },
  {
   "cell_type": "code",
   "execution_count": null,
   "metadata": {},
   "outputs": [],
   "source": [
    "剑指offer根据前序和中序遍历构建二叉树\n",
    "\n",
    "leetcode76.求子集\n",
    "\n",
    "9 二叉树 leetcode 102,104,111,112,236\n",
    "\n",
    "10 链表 leetcode 19,21,23,25,148,206\n",
    "\n",
    "11 数组 leetcode 215,239\n",
    "\n",
    "12 dfs,bfs leetcode 200\n",
    "\n",
    "二叉树从左到右遍历叶子结点，输出从根节点到叶子节点的路径\n",
    "\n",
    "\n",
    "4.https://www.nowcoder.com/discuss/315546?type=post&order=time&pos=&page=1\n",
    "\n",
    "5.代码：判断单链表有没有环，找到环入口点；\n",
    "\n",
    "6.项目会问到把softmax+交叉熵损失函数换成sigmoid+交叉熵损失函数可不可以，为什么可以(是否互斥问题)\n",
    " \n",
    "7.项目中为什么要用ssd不用faster rcnn，faster rcnn的特点，faster rcnn中ROI pooling的计算细节,反卷积的计算过程(图像中的内容)\n",
    "\n",
    "8.https://www.nowcoder.com/discuss/231523?type=post&order=time&pos=&page=1"
   ]
  }
 ],
 "metadata": {
  "kernelspec": {
   "display_name": "Python 3",
   "language": "python",
   "name": "python3"
  },
  "language_info": {
   "codemirror_mode": {
    "name": "ipython",
    "version": 3
   },
   "file_extension": ".py",
   "mimetype": "text/x-python",
   "name": "python",
   "nbconvert_exporter": "python",
   "pygments_lexer": "ipython3",
   "version": "3.7.3"
  },
  "toc": {
   "base_numbering": 1,
   "nav_menu": {},
   "number_sections": true,
   "sideBar": true,
   "skip_h1_title": false,
   "title_cell": "Table of Contents",
   "title_sidebar": "Contents",
   "toc_cell": false,
   "toc_position": {},
   "toc_section_display": true,
   "toc_window_display": true
  },
  "varInspector": {
   "cols": {
    "lenName": 16,
    "lenType": 16,
    "lenVar": 40
   },
   "kernels_config": {
    "python": {
     "delete_cmd_postfix": "",
     "delete_cmd_prefix": "del ",
     "library": "var_list.py",
     "varRefreshCmd": "print(var_dic_list())"
    },
    "r": {
     "delete_cmd_postfix": ") ",
     "delete_cmd_prefix": "rm(",
     "library": "var_list.r",
     "varRefreshCmd": "cat(var_dic_list()) "
    }
   },
   "types_to_exclude": [
    "module",
    "function",
    "builtin_function_or_method",
    "instance",
    "_Feature"
   ],
   "window_display": false
  }
 },
 "nbformat": 4,
 "nbformat_minor": 2
}
