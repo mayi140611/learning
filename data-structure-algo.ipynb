{
 "cells": [
  {
   "cell_type": "markdown",
   "metadata": {},
   "source": [
    "https://leetcode-cn.com/problems/climbing-stairs/\n",
    "    \n",
    "https://leetcode-cn.com/problems/move-zeroes/ \n",
    "\n",
    "https://leetcode-cn.com/problems/remove-duplicates-from-sorted-array/submissions/\n",
    "\n",
    "https://leetcode-cn.com/problems/container-with-most-water/"
   ]
  },
  {
   "cell_type": "markdown",
   "metadata": {},
   "source": [
    "# 求解算法问题4步骤\n",
    "* 和面试官确认面试题理解无误\n",
    "* 想所有的解决方法，同时比较这些方法的时间和空间复杂度\n",
    "* 写\n",
    "* 确认结果"
   ]
  },
  {
   "cell_type": "markdown",
   "metadata": {},
   "source": [
    "# 练习步骤 五毒神掌\n",
    "1. 5-10min 读题和思考\n",
    "1. 有思路，开始写代码；没思路，马上看题解\n",
    "1. 默写背诵、熟练\n",
    "1. 默写"
   ]
  },
  {
   "cell_type": "markdown",
   "metadata": {},
   "source": [
    "# 可视化工具\n",
    "https://visualgo.net/en"
   ]
  },
  {
   "cell_type": "markdown",
   "metadata": {},
   "source": [
    "# 复杂度分析"
   ]
  },
  {
   "cell_type": "markdown",
   "metadata": {},
   "source": [
    "## 时间复杂度\n",
    "https://www.zhihu.com/question/21387264\n",
    "### big O notation\n",
    "最常见的7种时间复杂度\n",
    "![](img/algo01.png)"
   ]
  },
  {
   "cell_type": "markdown",
   "metadata": {},
   "source": [
    "### 如何判断时间复杂度\n",
    "看一段代码针对n的不同取值时的运行次数与n的关系\n",
    "![](img/algo02.png)\n",
    "![](img/algo03.png)\n",
    "![](img/algo04.png)"
   ]
  },
  {
   "cell_type": "markdown",
   "metadata": {},
   "source": [
    "### 时间复杂度曲线\n",
    "![](img/algo05.png)"
   ]
  },
  {
   "cell_type": "markdown",
   "metadata": {},
   "source": [
    "### 递归函数如何求时间复杂度\n",
    "![](img/algo07.png)\n",
    "![](img/algo06.png)\n",
    "\n",
    "#### 主定理(Master Theorem\n",
    "https://en.wikipedia.org/wiki/Master_theorem_(analysis_of_algorithms)\n",
    "\n",
    "https://zh.wikipedia.org/wiki/%E4%B8%BB%E5%AE%9A%E7%90%86\n",
    "![](img/algo08.png)\n",
    "四种情况\n",
    "* binary search 二分查找：一般发生在一个数列本身有序的时候，你要在这个有序的数列里找到目标数\n",
    "* 二叉树遍历：\n",
    "* 二维有序矩阵\n",
    "* 归并排序: 所有排序 最优的就是nlogn的时间复杂度"
   ]
  },
  {
   "cell_type": "markdown",
   "metadata": {},
   "source": [
    "### 面试题\n",
    "![](img/algo09.png)\n",
    "答案 O(n) O(n) O(n) O(logn)"
   ]
  },
  {
   "cell_type": "markdown",
   "metadata": {},
   "source": [
    "### 常见数据结构操作的时间复杂度\n",
    "![](img/algo11.png)"
   ]
  },
  {
   "cell_type": "markdown",
   "metadata": {},
   "source": [
    "## 空间复杂度\n",
    "### 数组: 如果你开了数组\n",
    "\n",
    "一维数组： 传入n个值，数组长度是n，那么空间复杂度O(n)\n",
    "\n",
    "二维数组: 传入n个值，数组元素个数是n^2，那么空间复杂度O(n^2)\n",
    "\n",
    "### 递归\n",
    "最大的深度 就是空间复杂度\n",
    "![](img/algo10.png)\n",
    "https://leetcode-cn.com/problems/climbing-stairs/solution/pa-lou-ti-by-leetcode-solution/"
   ]
  },
  {
   "cell_type": "markdown",
   "metadata": {},
   "source": [
    "# 数组array、链表linked list、跳表skip list"
   ]
  },
  {
   "cell_type": "markdown",
   "metadata": {},
   "source": [
    "## linked list"
   ]
  },
  {
   "cell_type": "code",
   "execution_count": 1,
   "metadata": {},
   "outputs": [],
   "source": [
    "class LinkedNode:\n",
    "    def __init__(self, data):\n",
    "        self._data = data\n",
    "        self.next = None"
   ]
  },
  {
   "cell_type": "code",
   "execution_count": null,
   "metadata": {},
   "outputs": [],
   "source": [
    "class LinkedList:\n",
    "    def __init__(self, head=None):\n",
    "        self._head = head"
   ]
  },
  {
   "cell_type": "markdown",
   "metadata": {},
   "source": [
    "## skip list\n",
    "只能用于链表里的元素有序的情况下\n",
    "\n",
    "skip list对标的是平衡树(AVL Tree)和二分查找。是一种插入/删除/查找 都是O(logn)的数据结构。1989年出现\n",
    "\n",
    "它最大的优势是原理简单，容易实现、方便扩展、效率更高。因此在一些热门的项目里用来替代平衡树。如Redis\n",
    "### 如何提高链表线性查找的效率\n",
    "思维方式: 一维的数据要加速，通常考虑升维\n",
    "![](img/list01.png)\n",
    "![](img/list02.png)\n",
    "### 跳表查询的时间复杂度分析\n",
    "![](img/list03.png)\n",
    "![](img/list04.png)\n",
    "### 增加删除等维护成本高\n",
    "### 跳表查询的空间复杂度分析\n",
    "![](img/list05.png)"
   ]
  },
  {
   "cell_type": "code",
   "execution_count": null,
   "metadata": {},
   "outputs": [],
   "source": [
    "为啥 redis 使用跳表(skiplist)而不是使用 red-black？https://www.zhihu.com/question/20202931\n",
    "\n",
    "LRU缓存机制leetcode  https://leetcode-cn.com/problems/lru-cache/"
   ]
  },
  {
   "cell_type": "markdown",
   "metadata": {},
   "source": [
    "# tree"
   ]
  },
  {
   "cell_type": "markdown",
   "metadata": {},
   "source": [
    "## 思考题\n",
    "树的面试题一般都是递归，为什么\n",
    "* 本身节点的定义就是用递归定义的\n",
    "* 自相似性"
   ]
  },
  {
   "cell_type": "markdown",
   "metadata": {},
   "source": [
    "## 树的逻辑结构\n",
    "https://www.bilibili.com/video/BV1o541147mS\n",
    "### 基本术语"
   ]
  },
  {
   "cell_type": "markdown",
   "metadata": {},
   "source": [
    "#### 度\n",
    "结点的度: 结点所拥有的子树的个数\n",
    "树的度: 树中各结点度的最大值\n",
    "![](img/tree01.png)\n",
    "叶子结点: 度为0的结点\n",
    "分支结点: 度不为0的结点\n",
    "\n",
    "孩子、双亲(父节点):\n",
    "子孙、祖先\n",
    "兄弟\n",
    "\n",
    "路径\n",
    "路径长度: 路径经过边的个数\n",
    "\n",
    "结点所在层数: 根节点的层数为1\n",
    "树的深度: 树中所有结点的最大层数，也称为高度\n",
    "![](img/tree02.png)\n",
    "\n",
    "层序编号\n",
    "\n",
    "森林: m棵互不相交的树的结合\n",
    "\n",
    "### 线性结构和树结构的比较\n",
    "### 树的抽象数据类型定义\n",
    "    ADT Tree\n",
    "    Data\n",
    "    \n",
    "    Operation\n",
    "        InitTree\n",
    "        DsetroyTree\n",
    "        PreOrder\n",
    "        PostOrder\n",
    "    endADT"
   ]
  },
  {
   "cell_type": "markdown",
   "metadata": {},
   "source": [
    "### 树的遍历操作\n",
    "从根节点出发，按照某种次序访问树中的所有结点\n",
    "\n",
    "遍历的实质: 树结构 -> 线性结构\n",
    "\n",
    "#### 前序遍历 \n",
    "次序 根、左、右\n",
    "#### 后序遍历(根结点最后被访问\n",
    "左、右、根\n",
    "#### 层序遍历\n",
    "从第一层开始逐层遍历，从上至下、从左至右访问"
   ]
  },
  {
   "cell_type": "code",
   "execution_count": null,
   "metadata": {},
   "outputs": [],
   "source": [
    "class TreeNode:\n",
    "    def __init__(self, val):\n",
    "        self.val = val\n",
    "        self.left, self.right = None, None"
   ]
  },
  {
   "cell_type": "code",
   "execution_count": null,
   "metadata": {},
   "outputs": [],
   "source": [
    "class BinaryTree:\n",
    "    def preOrder(self, root):\n",
    "        self.traverse_path.append(root)\n",
    "        self.preOrder(root.left)\n",
    "        self.preOrder(root.right)\n",
    "    def inOrder(self, root):\n",
    "        self.inOrder(root.left)\n",
    "        self.traverse_path.append(root)\n",
    "        self.inOrder(root.right)\n",
    "    def postOrder(self, root):\n",
    "        self.postOrder(root.left)\n",
    "        self.postOrder(root.right)\n",
    "        self.traverse_path.append(root)"
   ]
  },
  {
   "cell_type": "markdown",
   "metadata": {},
   "source": [
    "## 树的存储结构\n",
    "https://www.bilibili.com/video/BV1jg4y1a7q6\n",
    "\n",
    "\n",
    "\n",
    "\n",
    "\n",
    "\n",
    "\n",
    "\n",
    "\n",
    "\n",
    "\n",
    "\n"
   ]
  },
  {
   "cell_type": "markdown",
   "metadata": {},
   "source": [
    "# 排序\n",
    "所有的排序的时间复杂度都是 nlogn"
   ]
  },
  {
   "cell_type": "markdown",
   "metadata": {},
   "source": [
    "# 递归"
   ]
  },
  {
   "cell_type": "markdown",
   "metadata": {},
   "source": [
    "## 计算n的阶乘"
   ]
  },
  {
   "cell_type": "code",
   "execution_count": 3,
   "metadata": {},
   "outputs": [],
   "source": [
    "def factorial(n):\n",
    "    if n <= 1:\n",
    "        return 1\n",
    "    return n * factorial(n-1)"
   ]
  },
  {
   "cell_type": "code",
   "execution_count": 5,
   "metadata": {},
   "outputs": [
    {
     "data": {
      "text/plain": [
       "720"
      ]
     },
     "execution_count": 5,
     "metadata": {},
     "output_type": "execute_result"
    }
   ],
   "source": [
    "factorial(6)"
   ]
  },
  {
   "cell_type": "markdown",
   "metadata": {},
   "source": [
    "![](img/digui00.png)"
   ]
  },
  {
   "cell_type": "markdown",
   "metadata": {},
   "source": [
    "## 递归的python模板"
   ]
  },
  {
   "cell_type": "code",
   "execution_count": null,
   "metadata": {},
   "outputs": [],
   "source": [
    "def recursion(level, param1, param2,...):\n",
    "    # 递归终止条件\n",
    "    if level > MAX_LEVEL:\n",
    "        process_result\n",
    "        return\n",
    "    # 处理当前层逻辑\n",
    "    process(level, data)\n",
    "    \n",
    "    # 到下一层\n",
    "    recursion(level+1, p1...)\n",
    "    \n",
    "    # 清理当前level的变量 if needed"
   ]
  },
  {
   "cell_type": "markdown",
   "metadata": {},
   "source": [
    "## 思维要点\n",
    "![](img/digui01.png)"
   ]
  },
  {
   "cell_type": "code",
   "execution_count": null,
   "metadata": {},
   "outputs": [],
   "source": []
  }
 ],
 "metadata": {
  "kernelspec": {
   "display_name": "Python 3",
   "language": "python",
   "name": "python3"
  },
  "language_info": {
   "codemirror_mode": {
    "name": "ipython",
    "version": 3
   },
   "file_extension": ".py",
   "mimetype": "text/x-python",
   "name": "python",
   "nbconvert_exporter": "python",
   "pygments_lexer": "ipython3",
   "version": "3.7.3"
  },
  "toc": {
   "base_numbering": 1,
   "nav_menu": {},
   "number_sections": true,
   "sideBar": true,
   "skip_h1_title": false,
   "title_cell": "Table of Contents",
   "title_sidebar": "Contents",
   "toc_cell": false,
   "toc_position": {},
   "toc_section_display": true,
   "toc_window_display": true
  },
  "varInspector": {
   "cols": {
    "lenName": 16,
    "lenType": 16,
    "lenVar": 40
   },
   "kernels_config": {
    "python": {
     "delete_cmd_postfix": "",
     "delete_cmd_prefix": "del ",
     "library": "var_list.py",
     "varRefreshCmd": "print(var_dic_list())"
    },
    "r": {
     "delete_cmd_postfix": ") ",
     "delete_cmd_prefix": "rm(",
     "library": "var_list.r",
     "varRefreshCmd": "cat(var_dic_list()) "
    }
   },
   "types_to_exclude": [
    "module",
    "function",
    "builtin_function_or_method",
    "instance",
    "_Feature"
   ],
   "window_display": false
  }
 },
 "nbformat": 4,
 "nbformat_minor": 2
}
