{
 "cells": [
  {
   "cell_type": "markdown",
   "metadata": {},
   "source": [
    "# Weakly-Supervised-Learning"
   ]
  },
  {
   "cell_type": "markdown",
   "metadata": {},
   "source": [
    "# A brief introduction to weakly supervised learning"
   ]
  },
  {
   "cell_type": "code",
   "execution_count": 1,
   "metadata": {},
   "outputs": [
    {
     "data": {
      "text/html": [
       "\n",
       "        <iframe\n",
       "            width=\"1200\"\n",
       "            height=\"550\"\n",
       "            src=\"https://academic.oup.com/nsr/article-pdf/5/1/44/31567770/nwx106.pdf\"\n",
       "            frameborder=\"0\"\n",
       "            allowfullscreen\n",
       "        ></iframe>\n",
       "        "
      ],
      "text/plain": [
       "<IPython.lib.display.IFrame at 0x105b4c978>"
      ]
     },
     "execution_count": 1,
     "metadata": {},
     "output_type": "execute_result"
    }
   ],
   "source": [
    "from IPython.display import IFrame\n",
    "IFrame('https://academic.oup.com/nsr/article-pdf/5/1/44/31567770/nwx106.pdf', width=1200, height=550)"
   ]
  },
  {
   "cell_type": "markdown",
   "metadata": {},
   "source": [
    "## ABSTRACT\n",
    "Supervised learning techniques construct predictive models by learning from a large number of training examples, where each training example has a label indicating its ground-truth output. Though current techniques have achieved great success, it is noteworthy that in many tasks it is difficult to get strong supervision information like fully ground-truth labels due to the high cost of the data-labeling process. \n",
    "\n",
    "Thus,it is desirable for machine-learning techniques to work with weak supervision. This article reviews some research progress of weakly supervised learning, focusing on \n",
    "### three typical types of weak supervision:\n",
    "* incomplete supervision, where only a subset of training data is given with labels; \n",
    "* inexact supervision, where the training data are given with only coarse-grained labels; and \n",
    "* inaccurate supervision, where the given labels are not always ground-truth."
   ]
  },
  {
   "cell_type": "markdown",
   "metadata": {},
   "source": [
    "# 3种类型的弱监督\n",
    "https://zhuanlan.zhihu.com/p/35234885"
   ]
  },
  {
   "cell_type": "markdown",
   "metadata": {},
   "source": [
    "## incomplete supervision\n",
    "我们有海量的未标注的样本，同时有少量的标注的样本。有两种思路来解决这个问题。\n",
    "### 解决思路1: active learning\n",
    "\n",
    "这个细节就不写了，但这个效果还不错。\n",
    "\n",
    "核心是__少量的高质量query往往就能跑出一个不错的model，我们目标就是找到这批query__。这个前提是很合理且通用的。\n",
    "\n",
    "当然，这批query是要送标的，也就是需要人力参与。\n",
    "\n",
    "### 半监督学习\n",
    "\n",
    "这种的话，是期望这批query不用送，不用人力参与，自动的利用这批query。\n",
    "\n",
    "如下图，假如有一个未知的数据，也就是圆圈，+ -分别是我们标注过的训练样本。\n",
    "\n",
    "基于标注的样本，我们很难预测这个圈圈是什么。\n",
    "\n",
    "但看右图，灰色的圈圈是未标注的样本，根据灰色的样本的分布，和已有的标注的样本。\n",
    "\n",
    "我们可以大致给出结论圈圈是+的可能性更大。\n",
    "## 不确切监督学习\n",
    "没看懂，暂时也没想到实际应用的场景。\n",
    "\n",
    "\n",
    "\n",
    "## 不准确监督学习\n",
    "my: 可以用snorkel\n",
    "\n",
    "\n",
    "就是训练样本的标注不是都准确的，有部分是有错误。\n",
    "\n",
    "一个方向，当然就是，如何把这批错误的样本找出来，进行清理或者纠正。\n",
    "\n",
    "\n",
    "另外一个新的方向是，众包方向。\n",
    "\n",
    "众包面临这样的问题。\n",
    "\n",
    "第一，用户的标注产出质量差距很大，但是这些用户的产出质量差，只有在标注完了，我们才知道。因为我们不是亲眼看着这个用户标注完毕的。\n",
    "\n",
    "第二，有一些问题可能太困难了，对于很多用户来说的确很难区分。\n",
    "\n",
    "如何解决这个问题，也是有很多方式，具体的就不细说了，可以看paper。\n",
    "\n",
    "这个方面暂时不需要深入探究。"
   ]
  },
  {
   "cell_type": "code",
   "execution_count": null,
   "metadata": {},
   "outputs": [],
   "source": []
  }
 ],
 "metadata": {
  "kernelspec": {
   "display_name": "Python 3",
   "language": "python",
   "name": "python3"
  },
  "language_info": {
   "codemirror_mode": {
    "name": "ipython",
    "version": 3
   },
   "file_extension": ".py",
   "mimetype": "text/x-python",
   "name": "python",
   "nbconvert_exporter": "python",
   "pygments_lexer": "ipython3",
   "version": "3.7.3"
  },
  "toc": {
   "base_numbering": 1,
   "nav_menu": {},
   "number_sections": true,
   "sideBar": true,
   "skip_h1_title": false,
   "title_cell": "Table of Contents",
   "title_sidebar": "Contents",
   "toc_cell": false,
   "toc_position": {},
   "toc_section_display": true,
   "toc_window_display": true
  },
  "varInspector": {
   "cols": {
    "lenName": 16,
    "lenType": 16,
    "lenVar": 40
   },
   "kernels_config": {
    "python": {
     "delete_cmd_postfix": "",
     "delete_cmd_prefix": "del ",
     "library": "var_list.py",
     "varRefreshCmd": "print(var_dic_list())"
    },
    "r": {
     "delete_cmd_postfix": ") ",
     "delete_cmd_prefix": "rm(",
     "library": "var_list.r",
     "varRefreshCmd": "cat(var_dic_list()) "
    }
   },
   "types_to_exclude": [
    "module",
    "function",
    "builtin_function_or_method",
    "instance",
    "_Feature"
   ],
   "window_display": false
  }
 },
 "nbformat": 4,
 "nbformat_minor": 2
}
