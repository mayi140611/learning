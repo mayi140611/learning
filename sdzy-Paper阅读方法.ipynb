{
 "cells": [
  {
   "cell_type": "markdown",
   "metadata": {},
   "source": [
    "# 效率提升3倍的Paper阅读方法\n",
    "https://ai.deepshare.net/detail/v_5eb4e8574c75e_detY6aF7/3?from=p_5eb4bf330213c_8zZLl2M0&type=6\n",
    "\n",
    "## 读哪些论文\n",
    "### 高质量期刊会议\n",
    "CVPR ECCV ICCV AAAI NIPS ICLR ICML\n",
    "### Talk is cheap, show me the code\n",
    "https://paperswithcode.com"
   ]
  },
  {
   "cell_type": "markdown",
   "metadata": {},
   "source": [
    "## 如何找论文\n",
    "* 知网 寻找优质综述论文 快速入门\n",
    "* 百度学术 google scholar\n",
    "* arXiv: \n",
    "https://arxiv.org 论文预印版(preprint)平台\n",
    "* 顶会: CVPR ECCV ICCV AAAI NIPS ICLR ICML"
   ]
  },
  {
   "cell_type": "markdown",
   "metadata": {},
   "source": [
    "### sci-hub: 一个能绕过科研论文收费的神奇网站\n",
    "* https://sci-hub.tw    \n",
    "* https://sci-hub.si    \n",
    "* https://sci-hub.se   \n",
    "\n",
    "![](img/pp01.png)\n",
    "### 百度学术 文献互助 http://xueshu.baidu.com"
   ]
  },
  {
   "cell_type": "markdown",
   "metadata": {},
   "source": [
    "## 是否优质\n",
    "* 看IF Impact Factor 影响因子：期刊前N年发表论文被引述除以前N年的发表论文数，通常N=2或5\n",
    "* JCR(Journal Citation Reports, 期刊引证报告)：统计SCI期刊的论文引用数据，给出各期刊IF\n",
    "* SCI期刊分区：\n",
    "    * JCR方式，一二三四区各占25%\n",
    "    * 中科院方式，一区为5%，二区5-20%，三区20-50%，四区50-100%"
   ]
  },
  {
   "cell_type": "markdown",
   "metadata": {},
   "source": [
    "## 如何整理论文\n",
    "### 手动方式 适合少量论文\n",
    "统一命名方式： time-outhor-题名；time-keyword-题名"
   ]
  },
  {
   "cell_type": "markdown",
   "metadata": {},
   "source": [
    "### 论文管理软件\n",
    "* endnote 收费\n",
    "* Mendeley 免费 推荐\n",
    "* Zotero\n",
    "* Citavi"
   ]
  },
  {
   "cell_type": "markdown",
   "metadata": {},
   "source": [
    "# 如何读论文"
   ]
  },
  {
   "cell_type": "markdown",
   "metadata": {},
   "source": [
    "## 困境\n",
    "* 重点难把握\n",
    "* 论文关系复杂\n",
    "* 公式图表难懂\n",
    "* 难以坚持\n",
    "\n",
    "## 读论文3步曲：泛读、精读、总结\n",
    "### 泛读\n",
    "重点读标题、摘要、结论、所有的小标题和图表\n",
    "#### 泛读目标和效果评测\n",
    "* 论文解决了什么问题\n",
    "* 采用了什么方法\n",
    "* 达到了什么效果\n",
    "\n",
    "### 精读\n",
    "#### 精读目标和效果评测\n",
    "所有段落是否详细掌握\n",
    "### 总结\n",
    "论文中的\n",
    "#### 创新点\n",
    "#### 关键点\n",
    "#### 启发点"
   ]
  },
  {
   "cell_type": "markdown",
   "metadata": {},
   "source": [
    "## 论文结构\n",
    "![](img/pp02.png)"
   ]
  },
  {
   "cell_type": "markdown",
   "metadata": {},
   "source": [
    "## 论文复现\n",
    "![](img/pp03.png)"
   ]
  },
  {
   "cell_type": "markdown",
   "metadata": {},
   "source": [
    "## 基础知识\n",
    "![](img/pp04.png)"
   ]
  },
  {
   "cell_type": "code",
   "execution_count": null,
   "metadata": {},
   "outputs": [],
   "source": []
  },
  {
   "cell_type": "code",
   "execution_count": null,
   "metadata": {},
   "outputs": [],
   "source": []
  },
  {
   "cell_type": "code",
   "execution_count": null,
   "metadata": {},
   "outputs": [],
   "source": []
  }
 ],
 "metadata": {
  "kernelspec": {
   "display_name": "Python 3",
   "language": "python",
   "name": "python3"
  },
  "language_info": {
   "codemirror_mode": {
    "name": "ipython",
    "version": 3
   },
   "file_extension": ".py",
   "mimetype": "text/x-python",
   "name": "python",
   "nbconvert_exporter": "python",
   "pygments_lexer": "ipython3",
   "version": "3.7.3"
  },
  "toc": {
   "base_numbering": 1,
   "nav_menu": {},
   "number_sections": true,
   "sideBar": true,
   "skip_h1_title": false,
   "title_cell": "Table of Contents",
   "title_sidebar": "Contents",
   "toc_cell": false,
   "toc_position": {},
   "toc_section_display": true,
   "toc_window_display": true
  },
  "varInspector": {
   "cols": {
    "lenName": 16,
    "lenType": 16,
    "lenVar": 40
   },
   "kernels_config": {
    "python": {
     "delete_cmd_postfix": "",
     "delete_cmd_prefix": "del ",
     "library": "var_list.py",
     "varRefreshCmd": "print(var_dic_list())"
    },
    "r": {
     "delete_cmd_postfix": ") ",
     "delete_cmd_prefix": "rm(",
     "library": "var_list.r",
     "varRefreshCmd": "cat(var_dic_list()) "
    }
   },
   "types_to_exclude": [
    "module",
    "function",
    "builtin_function_or_method",
    "instance",
    "_Feature"
   ],
   "window_display": false
  }
 },
 "nbformat": 4,
 "nbformat_minor": 2
}
