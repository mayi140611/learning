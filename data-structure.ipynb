{
 "cells": [
  {
   "cell_type": "markdown",
   "metadata": {},
   "source": [
    "# tree"
   ]
  },
  {
   "cell_type": "markdown",
   "metadata": {},
   "source": [
    "## 树的逻辑结构\n",
    "https://www.bilibili.com/video/BV1o541147mS\n",
    "### 基本术语"
   ]
  },
  {
   "cell_type": "markdown",
   "metadata": {},
   "source": [
    "#### 度\n",
    "结点的度: 结点所拥有的子树的个数\n",
    "树的度: 树中各结点度的最大值\n",
    "![](img/tree01.png)\n",
    "叶子结点: 度为0的结点\n",
    "分支结点: 度不为0的结点\n",
    "\n",
    "孩子、双亲(父节点):\n",
    "子孙、祖先\n",
    "兄弟\n",
    "\n",
    "路径\n",
    "路径长度: 路径经过边的个数\n",
    "\n",
    "结点所在层数: 根节点的层数为1\n",
    "树的深度: 树中所有结点的最大层数，也称为高度\n",
    "![](img/tree02.png)\n",
    "\n",
    "层序编号\n",
    "\n",
    "森林: m棵互不相交的树的结合\n",
    "\n",
    "### 线性结构和树结构的比较\n",
    "### 树的抽象数据类型定义\n",
    "    ADT Tree\n",
    "    Data\n",
    "    \n",
    "    Operation\n",
    "        InitTree\n",
    "        DsetroyTree\n",
    "        PreOrder\n",
    "        PostOrder\n",
    "    endADT\n",
    "    \n",
    "### 树的遍历操作\n",
    "从根节点出发，按照某种次序访问树中的所有结点\n",
    "\n",
    "遍历的实质: 树结构 -> 线性结构\n",
    "\n",
    "#### 前序遍历 \n",
    "次序 根、左、右\n",
    "#### 后序遍历(根结点最后被访问\n",
    "左、右、根\n",
    "#### 层序遍历\n",
    "从第一层开始逐层遍历，从上至下、从左至右访问\n",
    "\n",
    "\n",
    "\n"
   ]
  },
  {
   "cell_type": "markdown",
   "metadata": {},
   "source": [
    "## 树的存储结构\n",
    "https://www.bilibili.com/video/BV1jg4y1a7q6\n",
    "\n",
    "\n",
    "\n",
    "\n",
    "\n",
    "\n",
    "\n",
    "\n",
    "\n",
    "\n",
    "\n",
    "\n"
   ]
  },
  {
   "cell_type": "code",
   "execution_count": null,
   "metadata": {},
   "outputs": [],
   "source": []
  }
 ],
 "metadata": {
  "kernelspec": {
   "display_name": "Python 3",
   "language": "python",
   "name": "python3"
  },
  "language_info": {
   "codemirror_mode": {
    "name": "ipython",
    "version": 3
   },
   "file_extension": ".py",
   "mimetype": "text/x-python",
   "name": "python",
   "nbconvert_exporter": "python",
   "pygments_lexer": "ipython3",
   "version": "3.7.3"
  },
  "toc": {
   "base_numbering": 1,
   "nav_menu": {},
   "number_sections": true,
   "sideBar": true,
   "skip_h1_title": false,
   "title_cell": "Table of Contents",
   "title_sidebar": "Contents",
   "toc_cell": false,
   "toc_position": {},
   "toc_section_display": true,
   "toc_window_display": true
  },
  "varInspector": {
   "cols": {
    "lenName": 16,
    "lenType": 16,
    "lenVar": 40
   },
   "kernels_config": {
    "python": {
     "delete_cmd_postfix": "",
     "delete_cmd_prefix": "del ",
     "library": "var_list.py",
     "varRefreshCmd": "print(var_dic_list())"
    },
    "r": {
     "delete_cmd_postfix": ") ",
     "delete_cmd_prefix": "rm(",
     "library": "var_list.r",
     "varRefreshCmd": "cat(var_dic_list()) "
    }
   },
   "types_to_exclude": [
    "module",
    "function",
    "builtin_function_or_method",
    "instance",
    "_Feature"
   ],
   "window_display": false
  }
 },
 "nbformat": 4,
 "nbformat_minor": 2
}
