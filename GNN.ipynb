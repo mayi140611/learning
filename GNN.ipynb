{
 "cells": [
  {
   "cell_type": "markdown",
   "metadata": {},
   "source": [
    "# CNN ROADMAP\n",
    "### 李宏毅相关课程内容\n",
    "\n",
    "https://www.bilibili.com/video/BV1JE411g7XF?p=18\n",
    "\n",
    "![](img/gnn01.png)"
   ]
  },
  {
   "cell_type": "markdown",
   "metadata": {},
   "source": [
    "## Spatial-based NN\n",
    "### Spatial-based Convolution\n",
    "![](img/gnn02.png)\n",
    "![](img/gnn03.png)\n",
    "![](img/gnn04.png)\n",
    "![](img/gnn05.png)"
   ]
  },
  {
   "cell_type": "markdown",
   "metadata": {},
   "source": [
    "## Graph signal processing and Spectral-based gnn\n",
    "https://www.bilibili.com/video/BV1JE411g7XF?p=19\n",
    "\n",
    "![](img/gnn06.png)\n"
   ]
  },
  {
   "cell_type": "markdown",
   "metadata": {},
   "source": [
    "# LSCJ图机器学习"
   ]
  },
  {
   "cell_type": "markdown",
   "metadata": {},
   "source": [
    "## lesson1"
   ]
  },
  {
   "cell_type": "markdown",
   "metadata": {},
   "source": [
    "## hw01"
   ]
  },
  {
   "cell_type": "markdown",
   "metadata": {},
   "source": [
    "Dataguru Graph Machine Learning Lecture \n",
    "\n",
    "1 Written Assignment\n",
    "Written by Kaisa Due: 08/29/2020\n",
    "    \n",
    "### Use the Wikipedia voting network data in wiki − Vote.txt.zip to complete this assignment. Understanding structural properties of networks\n",
    "\n",
    "Wikipedia is a free encyclopedia written collaboratively by volunteers around the world. A small part of Wikipedia contributors are administrators, who are users with access to additional technical features that aid in maintenance. In order for a user to become an administrator a Request for adminship (RfA) is issued and the Wikipedia community via a public discussion or a vote decides who to promote to adminship. Using the latest complete dump of Wikipedia page edit history (from January 3 2008) we extracted all administrator elections and vote history data. This gave us 2,794 elections with 103,663 total votes and 7,066 users participating in the elections (either casting a vote or being voted on). Out of these 1,235 elections resulted in a successful promotion, while 1,559 elections did not result in the promotion. About half of the votes in the dataset are by existing admins, while the other half comes from ordinary Wikipedia users.\n",
    "The network contains all the Wikipedia voting data from the inception of Wikipedia till Janu- ary 2008. Nodes in the network represent wikipedia users and a directed edge from node i to node j represents that user i voted on user j.\n",
    "Here we formulate Wikipedia as a directed network. Formally, we consider the Wikipedia network as a directed graph G = (V, E), with node set V and edge set E ⊂ V × V where (edges are ordered pairs of nodes). An edge (a, b) ∈ E means that user a voted on user b.\n",
    "To complete Exercise 1, you need to submit the following two items to receive full credit for each sub-questions. Note that no credit will be awarded if you only submit the numeric answer without the code you wrote (or your code has dependency on any graph analysis packages).\n",
    "• The code (preferrably in Python) to compute the structural property. Note that you need to write from scratch without referring to any existed graph analysis packages.\n",
    "• The numeric answer for that structural property\n",
    "\n",
    "1.1\n",
    "The number of nodes in the network.\n",
    "1.2\n",
    "The number of directed edges in the network.\n",
    "1.3\n",
    "The number of undirected edges in the network, i.e., the number of unique unordered pairs (a,b),a ̸= b, for which (a,b) ∈ E or (b,a) ∈ E (or both). If both (a,b) and (b,a) are edges, this counts a single undirected edge.\n",
    "1\n",
    "1.4\n",
    "The number of nodes of zero out-degree.\n",
    "1.5\n",
    "The number of nodes of zero in-degree.\n",
    "1.6\n",
    "The number of nodes and edges in largest strongly connected component.\n",
    "1.7\n",
    "The number of nodes and edges in largest weakly connected component.\n",
    "1.8\n",
    "Average clustering coefficient.\n"
   ]
  },
  {
   "cell_type": "code",
   "execution_count": 4,
   "metadata": {},
   "outputs": [],
   "source": [
    "# read data\n",
    "with open('wiki-Vote.txt', 'r') as f:\n",
    "    lines = f.readlines()"
   ]
  },
  {
   "cell_type": "code",
   "execution_count": 8,
   "metadata": {},
   "outputs": [],
   "source": [
    "starts = [line.strip().split()[0] for line in lines if not line.startswith('#')]"
   ]
  },
  {
   "cell_type": "code",
   "execution_count": 10,
   "metadata": {},
   "outputs": [],
   "source": [
    "ends = [line.strip().split()[1] for line in lines if not line.startswith('#')]"
   ]
  },
  {
   "cell_type": "code",
   "execution_count": 13,
   "metadata": {},
   "outputs": [],
   "source": [
    "assert len(starts)==len(ends)"
   ]
  },
  {
   "cell_type": "code",
   "execution_count": 14,
   "metadata": {},
   "outputs": [
    {
     "data": {
      "text/plain": [
       "7115"
      ]
     },
     "execution_count": 14,
     "metadata": {},
     "output_type": "execute_result"
    }
   ],
   "source": [
    "# 1.1 The number of nodes in the network.\n",
    "nodes_num = len(set(starts + ends))\n",
    "nodes_num"
   ]
  },
  {
   "cell_type": "code",
   "execution_count": 22,
   "metadata": {},
   "outputs": [
    {
     "data": {
      "text/plain": [
       "103689"
      ]
     },
     "execution_count": 22,
     "metadata": {},
     "output_type": "execute_result"
    }
   ],
   "source": [
    "# 1.2 The number of directed edges in the network. \n",
    "edges_set = set([(starts[i], ends[i]) for i in range(len(starts))])\n",
    "edges_num = len(edges_set)\n",
    "edges_num"
   ]
  },
  {
   "cell_type": "code",
   "execution_count": 23,
   "metadata": {},
   "outputs": [],
   "source": [
    "# 1.3 The number of undirected edges in the network, i.e., the number of unique unordered pairs (a,b),a ̸= b, for which (a,b) ∈ E or (b,a) ∈ E (or both). \n",
    "# If both (a,b) and (b,a) are edges, this counts a single undirected edge.\n",
    "undirected_edge_set = set()\n",
    "for i in range(len(starts)):\n",
    "    if (starts[i], ends[i]) in edges_set and (ends[i], starts[i]) in edges_set:\n",
    "        undirected_edge_set.add((starts[i], ends[i]))"
   ]
  },
  {
   "cell_type": "code",
   "execution_count": 25,
   "metadata": {},
   "outputs": [
    {
     "data": {
      "text/plain": [
       "2927"
      ]
     },
     "execution_count": 25,
     "metadata": {},
     "output_type": "execute_result"
    }
   ],
   "source": [
    "len(undirected_edge_set)//2"
   ]
  },
  {
   "cell_type": "code",
   "execution_count": 26,
   "metadata": {},
   "outputs": [
    {
     "data": {
      "text/plain": [
       "1005"
      ]
     },
     "execution_count": 26,
     "metadata": {},
     "output_type": "execute_result"
    }
   ],
   "source": [
    "# 1.4 The number of nodes of zero out-degree. \n",
    "len(set(ends)-set(starts))"
   ]
  },
  {
   "cell_type": "code",
   "execution_count": 27,
   "metadata": {},
   "outputs": [
    {
     "data": {
      "text/plain": [
       "4734"
      ]
     },
     "execution_count": 27,
     "metadata": {},
     "output_type": "execute_result"
    }
   ],
   "source": [
    "# 1.5 The number of nodes of zero in-degree. \n",
    "len(set(starts)-set(ends))"
   ]
  },
  {
   "cell_type": "code",
   "execution_count": 75,
   "metadata": {},
   "outputs": [],
   "source": [
    "# 1.6 The number of nodes and edges in largest strongly connected component. \n",
    "## 把存储改为邻接表的形式\n",
    "nodes_ = dict()\n",
    "visited = dict()\n",
    "for i in range(len(starts)):\n",
    "    if starts[i] not in nodes_:\n",
    "        nodes_[starts[i]] = []\n",
    "        visited[starts[i]] = 0\n",
    "    nodes_[starts[i]].append(ends[i])\n",
    "    if ends[i] not in visited:\n",
    "        visited[ends[i]] = 0"
   ]
  },
  {
   "cell_type": "code",
   "execution_count": null,
   "metadata": {},
   "outputs": [],
   "source": [
    "time_ = 1\n",
    "dfn, low = dict(), dict()\n",
    "stack = []"
   ]
  },
  {
   "cell_type": "code",
   "execution_count": null,
   "metadata": {},
   "outputs": [],
   "source": [
    "def dfs(node):\n",
    "    visited[node] = 1\n",
    "    stack.append(node)\n",
    "    dfn[node], low[node] = time_, time_\n",
    "    time_ += 1\n",
    "    if node in nodes_:\n",
    "        for n in nodes_[node]:\n",
    "            if visited[n] == 0:\n",
    "                dfs(n)\n",
    "                \n",
    "    "
   ]
  },
  {
   "cell_type": "code",
   "execution_count": 77,
   "metadata": {},
   "outputs": [
    {
     "data": {
      "text/plain": [
       "7115"
      ]
     },
     "execution_count": 77,
     "metadata": {},
     "output_type": "execute_result"
    }
   ],
   "source": [
    "for node in visited.keys():\n",
    "    if visited[node] == 0:\n",
    "        dfs(visited[node])"
   ]
  },
  {
   "cell_type": "code",
   "execution_count": null,
   "metadata": {},
   "outputs": [],
   "source": [
    "# 1.7 The number of nodes and edges in largest weakly connected component. \n"
   ]
  },
  {
   "cell_type": "code",
   "execution_count": null,
   "metadata": {},
   "outputs": [],
   "source": [
    "# 1.8 Average clustering coefficient.\n"
   ]
  },
  {
   "cell_type": "markdown",
   "metadata": {},
   "source": [
    "### Using Snap.py to replicate computing structural properties of networks\n",
    "Snap.py is a python interface for SNAP, which is C++ implemented, a general purpose, high performance system for analysis and manipulation of large networks.\n",
    "#### 2.1 Installation\n",
    "Follow the installation instructions https://snap.stanford.edu/snappy/ to install Snap.py to your environment. Attach a screenshot of successfully installing and running Snap.py on your machine.\n"
   ]
  },
  {
   "cell_type": "code",
   "execution_count": 1,
   "metadata": {},
   "outputs": [
    {
     "name": "stdout",
     "output_type": "stream",
     "text": [
      "Requirement already satisfied: snap-stanford in /root/anaconda3/lib/python3.7/site-packages (5.0.0)\r\n"
     ]
    }
   ],
   "source": [
    "!pip install snap-stanford"
   ]
  },
  {
   "cell_type": "code",
   "execution_count": 2,
   "metadata": {},
   "outputs": [
    {
     "name": "stdout",
     "output_type": "stream",
     "text": [
      "snap-stanford==5.0.0\r\n"
     ]
    }
   ],
   "source": [
    "!pip freeze | grep snap"
   ]
  },
  {
   "cell_type": "markdown",
   "metadata": {},
   "source": [
    "#### 2.2 Tutorial\n",
    "Follow the tutorial https://snap.stanford.edu/snappy/doc/tutorial/index-tut.html to familiarize yourself with Snap.py, in particular how to use it to perform various operations on graphs as we discuss in lecture. Note: full documentation can be found in https://snap.stanford.edu/snappy/doc/reference/index-ref.html. Then answer the following pop-quizzy questions:\n",
    "* What’s the SNAP Type for a vector of integers?   \n",
    "ans: TIntV\n",
    "* What’s the SNAP Type for an undirected graph?  \n",
    "ans: PUNGraph"
   ]
  },
  {
   "cell_type": "markdown",
   "metadata": {},
   "source": [
    "#### 2.3 Replicate what’ve done in Exercise 1 with Snap.py\n",
    "Redo Exercise 1.1 - 1.8 with Snap.py.  \n",
    "To receive full credit for this exercise, you need to submit the following two items. Note that no credit will be awarded if you only submit the numeric answer without the code you wrote.  \n",
    "*  The Snap.py code you wrote to compute the structural property.\n",
    "*  The numeric answer for that structural property.   \n",
    "A hint for sanity check: your answer from Exercise 1 should be the same as Exercise 2.\n",
    "\n"
   ]
  },
  {
   "cell_type": "code",
   "execution_count": 29,
   "metadata": {},
   "outputs": [],
   "source": [
    "import snap"
   ]
  },
  {
   "cell_type": "code",
   "execution_count": 45,
   "metadata": {},
   "outputs": [],
   "source": [
    "G1 = snap.TNGraph.New()"
   ]
  },
  {
   "cell_type": "code",
   "execution_count": 4,
   "metadata": {},
   "outputs": [],
   "source": [
    "# read data\n",
    "with open('wiki-Vote.txt', 'r') as f:\n",
    "    lines = f.readlines()"
   ]
  },
  {
   "cell_type": "code",
   "execution_count": 46,
   "metadata": {},
   "outputs": [],
   "source": [
    "for line in lines: \n",
    "    if not line.startswith('#'):\n",
    "        start, end = line.strip().split()\n",
    "        start, end = int(start), int(end)\n",
    "        try:\n",
    "            G1.AddNode(start)\n",
    "        except:\n",
    "            pass\n",
    "        try:\n",
    "            G1.AddNode(end)\n",
    "        except:\n",
    "            pass\n",
    "        G1.AddEdge(start,end)"
   ]
  },
  {
   "cell_type": "code",
   "execution_count": 47,
   "metadata": {},
   "outputs": [
    {
     "data": {
      "text/plain": [
       "7115"
      ]
     },
     "execution_count": 47,
     "metadata": {},
     "output_type": "execute_result"
    }
   ],
   "source": [
    "# 1.1 The number of nodes in the network.\n",
    "G1.GetNodes()"
   ]
  },
  {
   "cell_type": "code",
   "execution_count": 48,
   "metadata": {},
   "outputs": [
    {
     "data": {
      "text/plain": [
       "103689"
      ]
     },
     "execution_count": 48,
     "metadata": {},
     "output_type": "execute_result"
    }
   ],
   "source": [
    "# 1.2 The number of directed edges in the network. \n",
    "G1.GetEdges()"
   ]
  },
  {
   "cell_type": "code",
   "execution_count": 55,
   "metadata": {},
   "outputs": [
    {
     "data": {
      "text/plain": [
       "2927"
      ]
     },
     "execution_count": 55,
     "metadata": {},
     "output_type": "execute_result"
    }
   ],
   "source": [
    "# 1.3 The number of undirected edges in the network, i.e., the number of unique unordered pairs (a,b),a ̸= b, for which (a,b) ∈ E or (b,a) ∈ E (or both). \n",
    "# If both (a,b) and (b,a) are edges, this counts a single undirected edge.\n",
    "cnt = 0\n",
    "for edge in G1.Edges():\n",
    "#     print(edge.GetId())\n",
    "#     print(G1.IsEdge(*edge.GetId()))\n",
    "#     print(G1.IsEdge(edge.GetId()[1], edge.GetId()[0]))\n",
    "    if G1.IsEdge(*edge.GetId()) and G1.IsEdge(edge.GetId()[1], edge.GetId()[0]):\n",
    "        cnt += 1\n",
    "cnt // 2    "
   ]
  },
  {
   "cell_type": "code",
   "execution_count": 58,
   "metadata": {},
   "outputs": [
    {
     "data": {
      "text/plain": [
       "1005"
      ]
     },
     "execution_count": 58,
     "metadata": {},
     "output_type": "execute_result"
    }
   ],
   "source": [
    "# 1.4 The number of nodes of zero out-degree. \n",
    "cnt = 0\n",
    "for node in G1.Nodes():\n",
    "    if node.GetOutDeg()==0:\n",
    "        cnt += 1\n",
    "cnt"
   ]
  },
  {
   "cell_type": "code",
   "execution_count": 59,
   "metadata": {},
   "outputs": [
    {
     "data": {
      "text/plain": [
       "4734"
      ]
     },
     "execution_count": 59,
     "metadata": {},
     "output_type": "execute_result"
    }
   ],
   "source": [
    "# 1.5 The number of nodes of zero in-degree. \n",
    "cnt = 0\n",
    "for node in G1.Nodes():\n",
    "    if node.GetInDeg()==0:\n",
    "        cnt += 1\n",
    "cnt"
   ]
  },
  {
   "cell_type": "code",
   "execution_count": 63,
   "metadata": {},
   "outputs": [],
   "source": [
    "# 1.6 The number of nodes and edges in largest strongly connected component. \n",
    "SccG = snap.GetMxScc(G1)"
   ]
  },
  {
   "cell_type": "code",
   "execution_count": 64,
   "metadata": {},
   "outputs": [
    {
     "data": {
      "text/plain": [
       "1300"
      ]
     },
     "execution_count": 64,
     "metadata": {},
     "output_type": "execute_result"
    }
   ],
   "source": [
    "SccG.GetNodes()"
   ]
  },
  {
   "cell_type": "code",
   "execution_count": 65,
   "metadata": {},
   "outputs": [
    {
     "data": {
      "text/plain": [
       "39456"
      ]
     },
     "execution_count": 65,
     "metadata": {},
     "output_type": "execute_result"
    }
   ],
   "source": [
    "SccG.GetEdges()"
   ]
  },
  {
   "cell_type": "code",
   "execution_count": 60,
   "metadata": {},
   "outputs": [],
   "source": [
    "# 1.7 The number of nodes and edges in largest weakly connected component. \n",
    "WccG = snap.GetMxWcc(G1)"
   ]
  },
  {
   "cell_type": "code",
   "execution_count": 61,
   "metadata": {},
   "outputs": [
    {
     "data": {
      "text/plain": [
       "7066"
      ]
     },
     "execution_count": 61,
     "metadata": {},
     "output_type": "execute_result"
    }
   ],
   "source": [
    "WccG.GetNodes()"
   ]
  },
  {
   "cell_type": "code",
   "execution_count": 62,
   "metadata": {},
   "outputs": [
    {
     "data": {
      "text/plain": [
       "103663"
      ]
     },
     "execution_count": 62,
     "metadata": {},
     "output_type": "execute_result"
    }
   ],
   "source": [
    "WccG.GetEdges()"
   ]
  },
  {
   "cell_type": "code",
   "execution_count": 67,
   "metadata": {},
   "outputs": [
    {
     "data": {
      "text/plain": [
       "0.14089784589308724"
      ]
     },
     "execution_count": 67,
     "metadata": {},
     "output_type": "execute_result"
    }
   ],
   "source": [
    "# 1.8 Average clustering coefficient.\n",
    "snap.GetClustCf(G1)"
   ]
  },
  {
   "cell_type": "code",
   "execution_count": null,
   "metadata": {},
   "outputs": [],
   "source": []
  }
 ],
 "metadata": {
  "kernelspec": {
   "display_name": "Python 3",
   "language": "python",
   "name": "python3"
  },
  "language_info": {
   "codemirror_mode": {
    "name": "ipython",
    "version": 3
   },
   "file_extension": ".py",
   "mimetype": "text/x-python",
   "name": "python",
   "nbconvert_exporter": "python",
   "pygments_lexer": "ipython3",
   "version": "3.7.4"
  },
  "toc": {
   "base_numbering": 1,
   "nav_menu": {},
   "number_sections": true,
   "sideBar": true,
   "skip_h1_title": false,
   "title_cell": "Table of Contents",
   "title_sidebar": "Contents",
   "toc_cell": false,
   "toc_position": {},
   "toc_section_display": true,
   "toc_window_display": true
  },
  "varInspector": {
   "cols": {
    "lenName": 16,
    "lenType": 16,
    "lenVar": 40
   },
   "kernels_config": {
    "python": {
     "delete_cmd_postfix": "",
     "delete_cmd_prefix": "del ",
     "library": "var_list.py",
     "varRefreshCmd": "print(var_dic_list())"
    },
    "r": {
     "delete_cmd_postfix": ") ",
     "delete_cmd_prefix": "rm(",
     "library": "var_list.r",
     "varRefreshCmd": "cat(var_dic_list()) "
    }
   },
   "types_to_exclude": [
    "module",
    "function",
    "builtin_function_or_method",
    "instance",
    "_Feature"
   ],
   "window_display": false
  }
 },
 "nbformat": 4,
 "nbformat_minor": 2
}
