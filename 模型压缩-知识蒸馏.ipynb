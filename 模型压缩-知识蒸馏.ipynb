{
 "cells": [
  {
   "cell_type": "markdown",
   "metadata": {},
   "source": [
    "# 模型蒸馏Distillation\n",
    "https://zhuanlan.zhihu.com/p/71986772\n",
    "\n",
    "https://mp.weixin.qq.com/s/PR_YrbbT8gnAx6A36D3_KQ\n",
    "\n",
    "Hinton在NIPS2014[1]提出了知识蒸馏（Knowledge Distillation）的概念，旨在把一个大模型或者多个模型ensemble学到的知识迁移到另一个轻量级单模型上，方便部署。简单的说就是用新的小模型去学习大模型的预测结果，改变一下目标函数。听起来是不难，但在实践中小模型真的能拟合那么好吗？所以还是要多看看别人家的实验，掌握一些trick。\n",
    "## 名词解释\n",
    "\n",
    "    teacher - 原始模型或模型ensemble\n",
    "    student - 新模型\n",
    "    transfer set - 用来迁移teacher知识、训练student的数据集合\n",
    "    soft target - teacher输出的预测结果（一般是softmax之后的概率）\n",
    "    hard target - 样本原本的标签\n",
    "    temperature - 蒸馏目标函数中的超参数\n",
    "    born-again network - 蒸馏的一种，指student和teacher的结构和尺寸完全一样\n",
    "    teacher annealing - 防止student的表现被teacher限制，在蒸馏时逐渐减少soft targets的权重\n",
    "\n",
    "## 基本思想\n",
    "1.1 为什么蒸馏可以work\n",
    "\n",
    "好模型的目标不是拟合训练数据，而是学习如何泛化到新的数据。所以蒸馏的目标是让student学习到teacher的泛化能力，理论上得到的结果会比单纯拟合训练数据的student要好。另外，对于分类任务，如果soft targets的熵比hard targets高，那显然student会学习到更多的信息。"
   ]
  },
  {
   "cell_type": "markdown",
   "metadata": {},
   "source": [
    "# Bert模型的蒸馏方法\n",
    "专门针对Bert模型的蒸馏方法有很多，如tinybert，distillBert,pkd-bert等等。虽然有这么多蒸馏方法，但是仔细研究也能发现它们或多或少都有一些共同点，例如：\n",
    "\n",
    "1、在预训练阶段使用蒸馏方法通常能够取得较好的效果。\n",
    "\n",
    "2、设计的loss都有一些共通性。\n",
    "\n",
    "3、会将模型架构模块化，然后对模型不同的模块设计不同的loss。"
   ]
  },
  {
   "cell_type": "markdown",
   "metadata": {},
   "source": [
    "## DistilBERT\n",
    "Same as BERT but smaller. Trained by distillation of the pretrained BERT model, meaning it’s been trained to predict the same probabilities as the larger model. The actual objective is a combination of:\n",
    "\n",
    "        finding the same probabilities as the teacher model\n",
    "\n",
    "        predicting the masked tokens correctly (but no next-sentence objective)\n",
    "\n",
    "        a cosine similarity between the hidden states of the student and the teacher model\n",
    "\n"
   ]
  },
  {
   "cell_type": "code",
   "execution_count": null,
   "metadata": {},
   "outputs": [],
   "source": []
  }
 ],
 "metadata": {
  "kernelspec": {
   "display_name": "Python 3",
   "language": "python",
   "name": "python3"
  },
  "language_info": {
   "codemirror_mode": {
    "name": "ipython",
    "version": 3
   },
   "file_extension": ".py",
   "mimetype": "text/x-python",
   "name": "python",
   "nbconvert_exporter": "python",
   "pygments_lexer": "ipython3",
   "version": "3.7.3"
  },
  "toc": {
   "base_numbering": 1,
   "nav_menu": {},
   "number_sections": true,
   "sideBar": true,
   "skip_h1_title": false,
   "title_cell": "Table of Contents",
   "title_sidebar": "Contents",
   "toc_cell": false,
   "toc_position": {},
   "toc_section_display": true,
   "toc_window_display": true
  },
  "varInspector": {
   "cols": {
    "lenName": 16,
    "lenType": 16,
    "lenVar": 40
   },
   "kernels_config": {
    "python": {
     "delete_cmd_postfix": "",
     "delete_cmd_prefix": "del ",
     "library": "var_list.py",
     "varRefreshCmd": "print(var_dic_list())"
    },
    "r": {
     "delete_cmd_postfix": ") ",
     "delete_cmd_prefix": "rm(",
     "library": "var_list.r",
     "varRefreshCmd": "cat(var_dic_list()) "
    }
   },
   "types_to_exclude": [
    "module",
    "function",
    "builtin_function_or_method",
    "instance",
    "_Feature"
   ],
   "window_display": false
  }
 },
 "nbformat": 4,
 "nbformat_minor": 2
}
