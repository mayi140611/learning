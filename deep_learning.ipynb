{
 "cells": [
  {
   "cell_type": "markdown",
   "metadata": {},
   "source": [
    "# 李宏毅-深度学习\n",
    "https://www.bilibili.com/video/BV1b4411S7Ky/?spm_id_from=333.788.videocard.4\n",
    "\n",
    "定义一个神经网络的三个步骤:\n",
    "1. build nn\n",
    "2. 确定cost function\n",
    "3. 确定优化函数\n",
    "![](deep_learning/img/dl01.png)"
   ]
  },
  {
   "cell_type": "markdown",
   "metadata": {},
   "source": [
    "# Review basic structure\n",
    "https://www.bilibili.com/video/BV1b4411S7Ky/?spm_id_from=333.788.videocard.4"
   ]
  },
  {
   "cell_type": "markdown",
   "metadata": {},
   "source": [
    "## fully connected layer\n",
    "### 符号表示\n",
    "![](deep_learning/img/dl02.png)\n",
    "![](deep_learning/img/dl03.png)\n",
    "![](deep_learning/img/dl04.png)\n",
    "![](deep_learning/img/dl05.png)\n",
    "![](deep_learning/img/dl06.png)\n",
    "![](deep_learning/img/dl07.png)"
   ]
  },
  {
   "cell_type": "markdown",
   "metadata": {},
   "source": [
    "## Recurrent Structure\n",
    "![](deep_learning/img/dr01.png)\n",
    "### Deep RNN\n",
    "![](deep_learning/img/dr02.png)\n",
    "\n",
    "### bidirectional RNN \n",
    "![](deep_learning/img/dr04.png)\n",
    "\n",
    "### pyramidal RNN\n",
    "![](deep_learning/img/dr05.png)\n",
    "### Naive RNN\n",
    "![](deep_learning/img/dn01.png)\n",
    "### LSTM\n",
    "![](deep_learning/img/dn03.png)\n",
    "![](deep_learning/img/dn04.png)\n",
    "![](deep_learning/img/dn06.png)\n",
    "![](deep_learning/img/dn07.png)\n",
    "![](deep_learning/img/dn08.png)\n",
    "\n",
    "\n",
    "### GRU\n",
    "![](deep_learning/img/dn09.png)\n",
    "\n",
    "\n",
    "\n",
    "\n"
   ]
  },
  {
   "cell_type": "code",
   "execution_count": null,
   "metadata": {},
   "outputs": [],
   "source": []
  }
 ],
 "metadata": {
  "kernelspec": {
   "display_name": "Python 3",
   "language": "python",
   "name": "python3"
  },
  "language_info": {
   "codemirror_mode": {
    "name": "ipython",
    "version": 3
   },
   "file_extension": ".py",
   "mimetype": "text/x-python",
   "name": "python",
   "nbconvert_exporter": "python",
   "pygments_lexer": "ipython3",
   "version": "3.7.3"
  },
  "toc": {
   "base_numbering": 1,
   "nav_menu": {},
   "number_sections": true,
   "sideBar": true,
   "skip_h1_title": false,
   "title_cell": "Table of Contents",
   "title_sidebar": "Contents",
   "toc_cell": false,
   "toc_position": {},
   "toc_section_display": true,
   "toc_window_display": false
  }
 },
 "nbformat": 4,
 "nbformat_minor": 2
}
